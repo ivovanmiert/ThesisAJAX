{
 "cells": [
  {
   "cell_type": "code",
   "execution_count": 1,
   "metadata": {},
   "outputs": [],
   "source": [
    "import os"
   ]
  },
  {
   "cell_type": "code",
   "execution_count": 2,
   "metadata": {},
   "outputs": [
    {
     "data": {
      "text/plain": [
       "'C:\\\\Users\\\\IvovanMiert\\\\Documents\\\\VisualStudioCode\\\\soccernet-calibration-sportlight\\\\src\\\\models\\\\hrnet'"
      ]
     },
     "execution_count": 2,
     "metadata": {},
     "output_type": "execute_result"
    }
   ],
   "source": [
    "CONFIG_PATH = 'C:\\\\Users\\\\IvovanMiert\\\\Documents\\\\VisualStudioCode\\\\soccernet-calibration-sportlight\\\\src\\\\models\\\\hrnet\\\\train_config.yaml'\n",
    "config_path=os.path.dirname(CONFIG_PATH)\n",
    "config_path"
   ]
  },
  {
   "cell_type": "code",
   "execution_count": 3,
   "metadata": {},
   "outputs": [
    {
     "data": {
      "text/plain": [
       "'train_config'"
      ]
     },
     "execution_count": 3,
     "metadata": {},
     "output_type": "execute_result"
    }
   ],
   "source": [
    "config_name=os.path.splitext(os.path.basename(CONFIG_PATH))[0]\n",
    "config_name"
   ]
  }
 ],
 "metadata": {
  "kernelspec": {
   "display_name": "localization",
   "language": "python",
   "name": "python3"
  },
  "language_info": {
   "codemirror_mode": {
    "name": "ipython",
    "version": 3
   },
   "file_extension": ".py",
   "mimetype": "text/x-python",
   "name": "python",
   "nbconvert_exporter": "python",
   "pygments_lexer": "ipython3",
   "version": "3.8.18"
  }
 },
 "nbformat": 4,
 "nbformat_minor": 2
}
