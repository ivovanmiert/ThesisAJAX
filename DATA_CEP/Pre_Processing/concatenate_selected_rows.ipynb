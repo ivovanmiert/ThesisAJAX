{
 "cells": [
  {
   "cell_type": "code",
   "execution_count": 2,
   "metadata": {},
   "outputs": [
    {
     "name": "stderr",
     "output_type": "stream",
     "text": [
      "C:\\Users\\IvovanMiert\\AppData\\Local\\Temp\\ipykernel_37064\\2708456283.py:9: FutureWarning: Behavior when concatenating bool-dtype and numeric-dtype arrays is deprecated; in a future version these will cast to object dtype (instead of coercing bools to numeric values). To retain the old behavior, explicitly cast bool-dtype arrays to numeric dtype.\n",
      "  combined_df = pd.concat(df_list, ignore_index=True)\n"
     ]
    }
   ],
   "source": [
    "import pandas as pd\n",
    "import os\n",
    "\n",
    "# List all CSV files in the directory\n",
    "csv_files = [file for file in os.listdir('D:\\\\GITHUB\\\\Data_CEP\\\\Exploration\\\\csv_files') if file.endswith('.csv')]\n",
    "\n",
    "# Read and concatenate all CSV files into one DataFrame\n",
    "df_list = [pd.read_csv(os.path.join('D:\\\\GITHUB\\\\Data_CEP\\\\Exploration\\\\csv_files', file)) for file in csv_files]\n",
    "combined_df = pd.concat(df_list, ignore_index=True)\n",
    "\n",
    "# Save the concatenated DataFrame to a new CSV file\n",
    "combined_df.to_csv('D:\\\\GITHUB\\\\Data_CEP\\\\Pre_Processing\\\\combined_selected_rows.csv', index=False)"
   ]
  },
  {
   "cell_type": "code",
   "execution_count": null,
   "metadata": {},
   "outputs": [],
   "source": []
  }
 ],
 "metadata": {
  "kernelspec": {
   "display_name": "base",
   "language": "python",
   "name": "python3"
  },
  "language_info": {
   "codemirror_mode": {
    "name": "ipython",
    "version": 3
   },
   "file_extension": ".py",
   "mimetype": "text/x-python",
   "name": "python",
   "nbconvert_exporter": "python",
   "pygments_lexer": "ipython3",
   "version": "3.11.5"
  }
 },
 "nbformat": 4,
 "nbformat_minor": 2
}
