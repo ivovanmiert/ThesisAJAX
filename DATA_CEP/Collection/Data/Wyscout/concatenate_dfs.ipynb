{
 "cells": [
  {
   "cell_type": "code",
   "execution_count": 1,
   "metadata": {},
   "outputs": [],
   "source": [
    "import os \n",
    "import pandas as pd"
   ]
  },
  {
   "cell_type": "code",
   "execution_count": 2,
   "metadata": {},
   "outputs": [
    {
     "name": "stdout",
     "output_type": "stream",
     "text": [
      "Concatenated CSV saved to D:\\GITHUB\\Data_CEP\\Collection\\Data\\Wyscout\\full_dataframe_concatenated.csv\n"
     ]
    }
   ],
   "source": [
    "input_folder = 'D:\\\\GITHUB\\\\Data_CEP\\\\Collection\\\\Data\\\\Wyscout\\\\event_dataframes'\n",
    "dfs = []\n",
    "# Loop through each file in the directory\n",
    "for filename in os.listdir(input_folder):\n",
    "    if filename.endswith('.csv'):\n",
    "        file_path = os.path.join(input_folder, filename)\n",
    "        # Read the CSV file into a DataFrame\n",
    "        df = pd.read_csv(file_path)\n",
    "        dfs.append(df)\n",
    "\n",
    "# Concatenate all DataFrames in the list into a single DataFrame\n",
    "concatenated_df = pd.concat(dfs, ignore_index=True)\n",
    "\n",
    "# Save the concatenated DataFrame to a new CSV file\n",
    "output_file = 'D:\\\\GITHUB\\\\Data_CEP\\\\Collection\\\\Data\\\\Wyscout\\\\full_dataframe_concatenated.csv'\n",
    "concatenated_df.to_csv(output_file, index=False)\n",
    "\n",
    "print(f\"Concatenated CSV saved to {output_file}\")\n"
   ]
  }
 ],
 "metadata": {
  "kernelspec": {
   "display_name": "base",
   "language": "python",
   "name": "python3"
  },
  "language_info": {
   "codemirror_mode": {
    "name": "ipython",
    "version": 3
   },
   "file_extension": ".py",
   "mimetype": "text/x-python",
   "name": "python",
   "nbconvert_exporter": "python",
   "pygments_lexer": "ipython3",
   "version": "3.11.5"
  }
 },
 "nbformat": 4,
 "nbformat_minor": 2
}
