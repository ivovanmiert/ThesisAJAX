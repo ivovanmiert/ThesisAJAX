{
 "cells": [
  {
   "cell_type": "code",
   "execution_count": 138,
   "metadata": {},
   "outputs": [],
   "source": [
    "import os\n",
    "import ffmpeg\n",
    "from datetime import timedelta\n",
    "import yaml\n",
    "import pandas as pd\n",
    "import numpy as np\n",
    "from itertools import combinations\n",
    "from itertools import product"
   ]
  },
  {
   "cell_type": "code",
   "execution_count": 140,
   "metadata": {},
   "outputs": [],
   "source": [
    "df = pd.read_csv('D:\\\\GITHUB\\\\Data_CEP\\\\Exploration\\\\dataframe_expanded.csv')"
   ]
  },
  {
   "cell_type": "code",
   "execution_count": 142,
   "metadata": {},
   "outputs": [
    {
     "name": "stdout",
     "output_type": "stream",
     "text": [
      "237636\n",
      "9893\n",
      "1672\n"
     ]
    },
    {
     "name": "stderr",
     "output_type": "stream",
     "text": [
      "C:\\Users\\IvovanMiert\\AppData\\Local\\Temp\\ipykernel_14948\\3397391705.py:6: SettingWithCopyWarning: \n",
      "A value is trying to be set on a copy of a slice from a DataFrame.\n",
      "Try using .loc[row_indexer,col_indexer] = value instead\n",
      "\n",
      "See the caveats in the documentation: https://pandas.pydata.org/pandas-docs/stable/user_guide/indexing.html#returning-a-view-versus-a-copy\n",
      "  df_pass['normal_pass'] = 1  # Initialize the column with default values (e.g., 1)\n"
     ]
    },
    {
     "name": "stdout",
     "output_type": "stream",
     "text": [
      "226071\n"
     ]
    }
   ],
   "source": [
    "#First classification layer: Sort pass (Normal, Head, Hand)\n",
    "df_pass = df[(df['primary_type'] == 'pass') & (df['cross'] == 0)]\n",
    "print(len(df_pass))\n",
    "print(len(df_pass[df_pass['head_pass'] == 1]))\n",
    "print(len(df_pass[df_pass['hand_pass'] == 1]))\n",
    "df_pass['normal_pass'] = 1  # Initialize the column with default values (e.g., 1)\n",
    "df_pass.loc[(df_pass['head_pass'] == 1) | (df_pass['hand_pass'] == 1), 'normal_pass'] = 0\n",
    "print(len(df_pass[df_pass['normal_pass'] == 1]))"
   ]
  },
  {
   "cell_type": "code",
   "execution_count": 143,
   "metadata": {},
   "outputs": [
    {
     "name": "stdout",
     "output_type": "stream",
     "text": [
      "[True False]\n"
     ]
    }
   ],
   "source": [
    "#Succesfullness:\n",
    "print(df_pass['pass_accurate'].unique())\n",
    "#Only True and False so that is perfect"
   ]
  },
  {
   "cell_type": "code",
   "execution_count": 144,
   "metadata": {},
   "outputs": [
    {
     "data": {
      "text/plain": [
       "Index(['Unnamed: 0', 'event_id', 'match_id', 'match_period', 'minute',\n",
       "       'second', 'match_timestamp', 'video_timestamp', 'primary_type',\n",
       "       'secondary_types',\n",
       "       ...\n",
       "       'head_shot', 'whistle', 'shot_after_free_kick', 'acceleration',\n",
       "       'penalty_foul', 'penalty_goal', 'penalty_conceded_goal', 'third_assist',\n",
       "       'penalty_save', 'normal_pass'],\n",
       "      dtype='object', length=143)"
      ]
     },
     "execution_count": 144,
     "metadata": {},
     "output_type": "execute_result"
    }
   ],
   "source": [
    "df_pass.columns"
   ]
  },
  {
   "cell_type": "code",
   "execution_count": 145,
   "metadata": {},
   "outputs": [
    {
     "name": "stdout",
     "output_type": "stream",
     "text": [
      "18\n",
      "237636\n"
     ]
    },
    {
     "data": {
      "text/plain": [
       "237618"
      ]
     },
     "execution_count": 145,
     "metadata": {},
     "output_type": "execute_result"
    }
   ],
   "source": [
    "df_different_length = df_pass[(df_pass['long_pass'] == 0) & (df_pass['short_or_medium_pass'] == 0)]\n",
    "print(len(df_different_length))\n",
    "print(len(df_pass))\n",
    "#18 rows are going to deleted.\n",
    "condition_to_remove = (df_pass['long_pass'] == 0) & (df_pass['short_or_medium_pass'] == 0)\n",
    "df_pass = df_pass[~condition_to_remove]\n",
    "len(df_pass)"
   ]
  },
  {
   "cell_type": "code",
   "execution_count": 146,
   "metadata": {},
   "outputs": [
    {
     "name": "stdout",
     "output_type": "stream",
     "text": [
      "35189\n"
     ]
    }
   ],
   "source": [
    "print(len(df_pass[(df_pass['forward_pass'] == 0) & (df_pass['back_pass'] == 0) & (df_pass['lateral_pass'] == 0)]))"
   ]
  },
  {
   "cell_type": "code",
   "execution_count": 147,
   "metadata": {},
   "outputs": [
    {
     "name": "stdout",
     "output_type": "stream",
     "text": [
      "68\n"
     ]
    }
   ],
   "source": [
    "print(len(df_pass[(df_pass['forward_pass'] == 1) & (df_pass['back_pass'] == 1)]))\n",
    "condition_to_remove = (df_pass['forward_pass'] == 1) & (df_pass['back_pass'] == 1)\n",
    "df_pass = df_pass[~condition_to_remove]"
   ]
  },
  {
   "cell_type": "code",
   "execution_count": 148,
   "metadata": {},
   "outputs": [
    {
     "name": "stdout",
     "output_type": "stream",
     "text": [
      "0\n"
     ]
    }
   ],
   "source": [
    "print(len(df_pass[(df_pass['forward_pass'] == 1) & (df_pass['lateral_pass'] == 1)]))"
   ]
  },
  {
   "cell_type": "code",
   "execution_count": 149,
   "metadata": {},
   "outputs": [
    {
     "name": "stdout",
     "output_type": "stream",
     "text": [
      "0\n"
     ]
    }
   ],
   "source": [
    "print(len(df_pass[(df_pass['back_pass'] == 1) & (df_pass['lateral_pass'] == 1)]))"
   ]
  },
  {
   "cell_type": "code",
   "execution_count": 150,
   "metadata": {},
   "outputs": [
    {
     "name": "stdout",
     "output_type": "stream",
     "text": [
      "78402\n",
      "185\n"
     ]
    }
   ],
   "source": [
    "df_forward = df_pass[df_pass['forward_pass'] == 1]\n",
    "print(len(df_forward))\n",
    "print(len(df_forward[(df_forward['pass_angle'] < -45) | (df_forward['pass_angle'] > 45)]))\n",
    "#print(df_forward['pass_angle'])"
   ]
  },
  {
   "cell_type": "code",
   "execution_count": 152,
   "metadata": {},
   "outputs": [
    {
     "name": "stdout",
     "output_type": "stream",
     "text": [
      "36181\n",
      "123\n"
     ]
    }
   ],
   "source": [
    "df_backward = df_pass[df_pass['back_pass'] == 1]\n",
    "print(len(df_backward))\n",
    "print(len(df_backward[(df_backward['pass_angle'] > -135) & (df_backward['pass_angle'] < 135)]))\n",
    "condition = ((df_backward['pass_angle'] >= -135) & (df_backward['pass_angle'] < 135))"
   ]
  },
  {
   "cell_type": "code",
   "execution_count": 153,
   "metadata": {},
   "outputs": [
    {
     "name": "stdout",
     "output_type": "stream",
     "text": [
      "87778\n",
      "87\n",
      "1256\n"
     ]
    }
   ],
   "source": [
    "df_lateral = df_pass[df_pass['lateral_pass'] == 1]\n",
    "print(len(df_lateral))\n",
    "print(len(df_lateral[((df_lateral['pass_angle'] < -135) & (df_lateral['pass_angle'] > 135)) | ((df_lateral['pass_angle'] < 45) & (df_lateral['pass_angle'] > -45))]))\n",
    "print(len(df_lateral[((df_lateral['pass_angle'] <= -135) & (df_lateral['pass_angle'] >= 135)) | ((df_lateral['pass_angle'] <= 45) & (df_lateral['pass_angle'] >= -45))]))"
   ]
  },
  {
   "cell_type": "code",
   "execution_count": 154,
   "metadata": {},
   "outputs": [
    {
     "name": "stdout",
     "output_type": "stream",
     "text": [
      "35189\n",
      "132\n",
      "1155\n",
      "903\n",
      "33131\n"
     ]
    }
   ],
   "source": [
    "df_smaller_12 = df_pass[(df_pass['forward_pass'] == 0) & (df_pass['back_pass'] == 0) & (df_pass['lateral_pass'] == 0)]\n",
    "print(len(df_smaller_12))\n",
    "print(len(df_smaller_12[df_smaller_12['pass_length'] > 12]))\n",
    "print(len(df_smaller_12[(df_smaller_12['pass_angle'] >= -45) & (df_smaller_12['pass_angle'] <= 45)]))\n",
    "print(len(df_smaller_12[(df_smaller_12['pass_angle'] <= -135) | (df_smaller_12['pass_angle'] >= 135)]))\n",
    "print(len(df_smaller_12[((df_smaller_12['pass_angle'] > -135) & (df_smaller_12['pass_angle'] < -45)) | ((df_smaller_12['pass_angle'] > 45) & (df_smaller_12['pass_angle'] < 135))]))\n"
   ]
  },
  {
   "cell_type": "code",
   "execution_count": 129,
   "metadata": {},
   "outputs": [
    {
     "name": "stdout",
     "output_type": "stream",
     "text": [
      "        Unnamed: 0    event_id  match_id match_period  minute  second  \\\n",
      "393            393  1723218614   5476240           1H      23       3   \n",
      "423            423  1723218744   5476240           1H      23      48   \n",
      "1130          1130  1723219399   5476240           2H      58       9   \n",
      "4185          4185  1720968711   5476242           2H      54      43   \n",
      "4538          4538  1720969104   5476242           2H      79      41   \n",
      "...            ...         ...       ...          ...     ...     ...   \n",
      "492458      492458  2142881780   5476536           2H      92      23   \n",
      "492588      492588  2139886171   5476537           1H       3      38   \n",
      "493141      493141  2139886767   5476537           1H      32      26   \n",
      "494303      494303  2139888158   5476537           2H      94      44   \n",
      "495127      495127  2140028645   5476539           1H      45       3   \n",
      "\n",
      "       match_timestamp  video_timestamp primary_type  \\\n",
      "393       00:23:03.016      1384.016317         pass   \n",
      "423       00:23:48.259      1429.259297         pass   \n",
      "1130      00:58:09.826      3734.826356         pass   \n",
      "4185      00:54:43.198      3564.198589         pass   \n",
      "4538      01:19:41.106      5062.106227         pass   \n",
      "...                ...              ...          ...   \n",
      "492458    01:32:23.538      5669.538632         pass   \n",
      "492588    00:03:38.706       219.706237         pass   \n",
      "493141    00:32:26.231      1947.231934         pass   \n",
      "494303    01:34:44.793      5817.793828         pass   \n",
      "495127    00:45:03.936      2704.936026         pass   \n",
      "\n",
      "                                          secondary_types  location_x  \\\n",
      "393             pass_to_final_third, short_or_medium_pass          65   \n",
      "423          loss, progressive_pass, short_or_medium_pass           3   \n",
      "1130         loss, progressive_pass, short_or_medium_pass          31   \n",
      "4185                                 short_or_medium_pass          25   \n",
      "4538                           loss, short_or_medium_pass          45   \n",
      "...                                                   ...         ...   \n",
      "492458                               short_or_medium_pass          82   \n",
      "492588                               short_or_medium_pass          26   \n",
      "493141         loss, short_or_medium_pass, under_pressure          46   \n",
      "494303  pass_to_final_third, progressive_pass, short_o...          33   \n",
      "495127  pass_to_final_third, progressive_pass, short_o...          52   \n",
      "\n",
      "        location_y  team_id  team_name team_formation  opponent_team_id  \\\n",
      "393             18     3166    Bologna        4-1-3-2              3157   \n",
      "423             10     3157      Milan          4-3-3              3166   \n",
      "1130            16     3166    Bologna        4-1-4-1              3157   \n",
      "4185            12     3254  Frosinone          4-3-3              3187   \n",
      "4538            91     3254  Frosinone          4-3-3              3187   \n",
      "...            ...      ...        ...            ...               ...   \n",
      "492458          75     3158       Roma          4-3-3              3168   \n",
      "492588          61     3172   Atalanta        3-4-1-2              3187   \n",
      "493141          72     3172   Atalanta        3-4-1-2              3187   \n",
      "494303          72     3172   Atalanta        3-4-1-2              3187   \n",
      "495127          58     3236      Monza          5-4-1              3185   \n",
      "\n",
      "       opponent_team_name opponent_team_formation  player_id     player_name  \\\n",
      "393                 Milan                   4-3-3     352096         N. Moro   \n",
      "423               Bologna                 4-1-3-2     344132    T. Hernández   \n",
      "1130                Milan                   4-3-3     496214    N. Domínguez   \n",
      "4185               Napoli                   4-4-2     450972      A. Harroui   \n",
      "4538               Napoli                   4-4-2     531972  M. Brescianini   \n",
      "...                   ...                     ...        ...             ...   \n",
      "492458              Lecce                 4-4-1-1      20404    B. Cristante   \n",
      "492588             Napoli                   4-3-3        625      M. de Roon   \n",
      "493141             Napoli                   4-3-3     135807      M. Pašalić   \n",
      "494303             Napoli                   4-3-3        625      M. de Roon   \n",
      "495127             Torino                 3-4-1-2     241676  R. Gagliardini   \n",
      "\n",
      "       player_position pass_accurate  pass_angle  pass_length  recipient_id  \\\n",
      "393                 SS          True       -40.0          8.0      445146.0   \n",
      "423                 LB         False        45.0          2.0      541676.0   \n",
      "1130              RCMF         False       -45.0          2.0      235555.0   \n",
      "4185             LCMF3          True       -40.0          8.0      377116.0   \n",
      "4538             RCMF3         False       -45.0          2.0      366401.0   \n",
      "...                ...           ...         ...          ...           ...   \n",
      "492458           RCMF3          True        45.0          8.0       89186.0   \n",
      "492588            RCMF          True       -45.0         10.0      135807.0   \n",
      "493141             AMF         False        45.0         10.0       22107.0   \n",
      "494303            RCMF         False        15.0         73.0           0.0   \n",
      "495127            RCMF         False        30.0         58.0           0.0   \n",
      "\n",
      "         recipient_name recipient_position  end_location_x  end_location_y  \\\n",
      "393         L. Ferguson               LAMF            70.0            10.0   \n",
      "423            D. Ndoye               RAMF             4.0            12.0   \n",
      "1130    R. Loftus-Cheek              RCMF3            32.0            14.0   \n",
      "4185            G. Caso                LWF            30.0             4.0   \n",
      "4538        F. Anguissa               RCMF            46.0            89.0   \n",
      "...                 ...                ...             ...             ...   \n",
      "492458        P. Dybala                RWF            87.0            83.0   \n",
      "492588       M. Pašalić                AMF            32.0            50.0   \n",
      "493141        Mário Rui                 LB            52.0            83.0   \n",
      "494303              NaN                NaN           100.0           100.0   \n",
      "495127              NaN                NaN           100.0           100.0   \n",
      "\n",
      "       shot_body_part is_goal on_target goal_zone  xg  post_shot_xg  \\\n",
      "393               NaN     NaN       NaN       NaN NaN           NaN   \n",
      "423               NaN     NaN       NaN       NaN NaN           NaN   \n",
      "1130              NaN     NaN       NaN       NaN NaN           NaN   \n",
      "4185              NaN     NaN       NaN       NaN NaN           NaN   \n",
      "4538              NaN     NaN       NaN       NaN NaN           NaN   \n",
      "...               ...     ...       ...       ...  ..           ...   \n",
      "492458            NaN     NaN       NaN       NaN NaN           NaN   \n",
      "492588            NaN     NaN       NaN       NaN NaN           NaN   \n",
      "493141            NaN     NaN       NaN       NaN NaN           NaN   \n",
      "494303            NaN     NaN       NaN       NaN NaN           NaN   \n",
      "495127            NaN     NaN       NaN       NaN NaN           NaN   \n",
      "\n",
      "        goalkeeper_action_id goalkeeper  opponent_id_ground_duel  \\\n",
      "393                      NaN        NaN                      NaN   \n",
      "423                      NaN        NaN                      NaN   \n",
      "1130                     NaN        NaN                      NaN   \n",
      "4185                     NaN        NaN                      NaN   \n",
      "4538                     NaN        NaN                      NaN   \n",
      "...                      ...        ...                      ...   \n",
      "492458                   NaN        NaN                      NaN   \n",
      "492588                   NaN        NaN                      NaN   \n",
      "493141                   NaN        NaN                      NaN   \n",
      "494303                   NaN        NaN                      NaN   \n",
      "495127                   NaN        NaN                      NaN   \n",
      "\n",
      "       opponent_name_ground_duel opponent_position_ground_duel  \\\n",
      "393                          NaN                           NaN   \n",
      "423                          NaN                           NaN   \n",
      "1130                         NaN                           NaN   \n",
      "4185                         NaN                           NaN   \n",
      "4538                         NaN                           NaN   \n",
      "...                          ...                           ...   \n",
      "492458                       NaN                           NaN   \n",
      "492588                       NaN                           NaN   \n",
      "493141                       NaN                           NaN   \n",
      "494303                       NaN                           NaN   \n",
      "495127                       NaN                           NaN   \n",
      "\n",
      "       duel_type_ground_duel kept_possession_ground_duel  \\\n",
      "393                      NaN                         NaN   \n",
      "423                      NaN                         NaN   \n",
      "1130                     NaN                         NaN   \n",
      "4185                     NaN                         NaN   \n",
      "4538                     NaN                         NaN   \n",
      "...                      ...                         ...   \n",
      "492458                   NaN                         NaN   \n",
      "492588                   NaN                         NaN   \n",
      "493141                   NaN                         NaN   \n",
      "494303                   NaN                         NaN   \n",
      "495127                   NaN                         NaN   \n",
      "\n",
      "       progressed_with_ball_ground_duel stopped_progress_ground_duel  \\\n",
      "393                                 NaN                          NaN   \n",
      "423                                 NaN                          NaN   \n",
      "1130                                NaN                          NaN   \n",
      "4185                                NaN                          NaN   \n",
      "4538                                NaN                          NaN   \n",
      "...                                 ...                          ...   \n",
      "492458                              NaN                          NaN   \n",
      "492588                              NaN                          NaN   \n",
      "493141                              NaN                          NaN   \n",
      "494303                              NaN                          NaN   \n",
      "495127                              NaN                          NaN   \n",
      "\n",
      "       recovered_possession_ground_duel take_on_ground_duel side_ground_duel  \\\n",
      "393                                 NaN                 NaN              NaN   \n",
      "423                                 NaN                 NaN              NaN   \n",
      "1130                                NaN                 NaN              NaN   \n",
      "4185                                NaN                 NaN              NaN   \n",
      "4538                                NaN                 NaN              NaN   \n",
      "...                                 ...                 ...              ...   \n",
      "492458                              NaN                 NaN              NaN   \n",
      "492588                              NaN                 NaN              NaN   \n",
      "493141                              NaN                 NaN              NaN   \n",
      "494303                              NaN                 NaN              NaN   \n",
      "495127                              NaN                 NaN              NaN   \n",
      "\n",
      "        related_duel_id_ground_duel  opponent_id_aerial_duel  \\\n",
      "393                             NaN                      NaN   \n",
      "423                             NaN                      NaN   \n",
      "1130                            NaN                      NaN   \n",
      "4185                            NaN                      NaN   \n",
      "4538                            NaN                      NaN   \n",
      "...                             ...                      ...   \n",
      "492458                          NaN                      NaN   \n",
      "492588                          NaN                      NaN   \n",
      "493141                          NaN                      NaN   \n",
      "494303                          NaN                      NaN   \n",
      "495127                          NaN                      NaN   \n",
      "\n",
      "       opponent_name_aerial_duel opponent_position_aerial_duel  \\\n",
      "393                          NaN                           NaN   \n",
      "423                          NaN                           NaN   \n",
      "1130                         NaN                           NaN   \n",
      "4185                         NaN                           NaN   \n",
      "4538                         NaN                           NaN   \n",
      "...                          ...                           ...   \n",
      "492458                       NaN                           NaN   \n",
      "492588                       NaN                           NaN   \n",
      "493141                       NaN                           NaN   \n",
      "494303                       NaN                           NaN   \n",
      "495127                       NaN                           NaN   \n",
      "\n",
      "        opponent_height_aerial_duel first_touch_aerial_duel  \\\n",
      "393                             NaN                     NaN   \n",
      "423                             NaN                     NaN   \n",
      "1130                            NaN                     NaN   \n",
      "4185                            NaN                     NaN   \n",
      "4538                            NaN                     NaN   \n",
      "...                             ...                     ...   \n",
      "492458                          NaN                     NaN   \n",
      "492588                          NaN                     NaN   \n",
      "493141                          NaN                     NaN   \n",
      "494303                          NaN                     NaN   \n",
      "495127                          NaN                     NaN   \n",
      "\n",
      "        height_aerial_duel  related_duel_id_aerial_duel  yellow_card  \\\n",
      "393                    NaN                          NaN            0   \n",
      "423                    NaN                          NaN            0   \n",
      "1130                   NaN                          NaN            0   \n",
      "4185                   NaN                          NaN            0   \n",
      "4538                   NaN                          NaN            0   \n",
      "...                    ...                          ...          ...   \n",
      "492458                 NaN                          NaN            0   \n",
      "492588                 NaN                          NaN            0   \n",
      "493141                 NaN                          NaN            0   \n",
      "494303                 NaN                          NaN            0   \n",
      "495127                 NaN                          NaN            0   \n",
      "\n",
      "        red_card infraction_type  opponent_id_infraction  \\\n",
      "393            0             NaN                     NaN   \n",
      "423            0             NaN                     NaN   \n",
      "1130           0             NaN                     NaN   \n",
      "4185           0             NaN                     NaN   \n",
      "4538           0             NaN                     NaN   \n",
      "...          ...             ...                     ...   \n",
      "492458         0             NaN                     NaN   \n",
      "492588         0             NaN                     NaN   \n",
      "493141         0             NaN                     NaN   \n",
      "494303         0             NaN                     NaN   \n",
      "495127         0             NaN                     NaN   \n",
      "\n",
      "       opponent_name_infraction opponent_position_infraction  \\\n",
      "393                         NaN                          NaN   \n",
      "423                         NaN                          NaN   \n",
      "1130                        NaN                          NaN   \n",
      "4185                        NaN                          NaN   \n",
      "4538                        NaN                          NaN   \n",
      "...                         ...                          ...   \n",
      "492458                      NaN                          NaN   \n",
      "492588                      NaN                          NaN   \n",
      "493141                      NaN                          NaN   \n",
      "494303                      NaN                          NaN   \n",
      "495127                      NaN                          NaN   \n",
      "\n",
      "        carry_progression  end_location_x_carry  end_location_y_carry  \\\n",
      "393                   NaN                   NaN                   NaN   \n",
      "423                   NaN                   NaN                   NaN   \n",
      "1130                  NaN                   NaN                   NaN   \n",
      "4185                  NaN                   NaN                   NaN   \n",
      "4538                  NaN                   NaN                   NaN   \n",
      "...                   ...                   ...                   ...   \n",
      "492458                NaN                   NaN                   NaN   \n",
      "492588                NaN                   NaN                   NaN   \n",
      "493141                NaN                   NaN                   NaN   \n",
      "494303                NaN                   NaN                   NaN   \n",
      "495127                NaN                   NaN                   NaN   \n",
      "\n",
      "        possession_id  possession_duration                   possession_types  \\\n",
      "393      1.723219e+09            74.538689                         ['attack']   \n",
      "423      1.723220e+09            14.965979                         ['attack']   \n",
      "1130     1.723219e+09            14.189663                 ['transition_low']   \n",
      "4185     1.720969e+09            11.824250        ['counterattack', 'attack']   \n",
      "4538     1.720969e+09            19.519405                                 []   \n",
      "...               ...                  ...                                ...   \n",
      "492458   2.142882e+09            14.741869             ['attack', 'throw_in']   \n",
      "492588   2.139886e+09            30.168014  ['set_piece_attack', 'free_kick']   \n",
      "493141   2.139887e+09            25.285800    ['attack', 'transition_medium']   \n",
      "494303   2.139888e+09             2.523995                 ['transition_low']   \n",
      "495127   2.140030e+09            40.381247        ['counterattack', 'attack']   \n",
      "\n",
      "        events_number  event_index  start_location_x  start_location_y  \\\n",
      "393              33.0         20.0              14.0              50.0   \n",
      "423               8.0          5.0              85.0              87.0   \n",
      "1130             10.0          2.0              22.0              31.0   \n",
      "4185              8.0          1.0               9.0              26.0   \n",
      "4538              9.0          7.0              49.0              50.0   \n",
      "...               ...          ...               ...               ...   \n",
      "492458            7.0          5.0              49.0               0.0   \n",
      "492588           16.0          6.0              60.0               5.0   \n",
      "493141           12.0          4.0              41.0              44.0   \n",
      "494303            3.0          2.0              25.0              73.0   \n",
      "495127           16.0         15.0              11.0              48.0   \n",
      "\n",
      "        end_location_x_possession  end_location_y_possession  \\\n",
      "393                          86.0                       66.0   \n",
      "423                         100.0                       86.0   \n",
      "1130                         39.0                       51.0   \n",
      "4185                         75.0                       32.0   \n",
      "4538                         46.0                       89.0   \n",
      "...                           ...                        ...   \n",
      "492458                       87.0                       83.0   \n",
      "492588                       44.0                       64.0   \n",
      "493141                       88.0                       33.0   \n",
      "494303                       33.0                       72.0   \n",
      "495127                       52.0                       58.0   \n",
      "\n",
      "        team_id_possession team_name_possession team_formation_possession  \\\n",
      "393                 3166.0              Bologna                   4-1-3-2   \n",
      "423                 3166.0              Bologna                   4-1-3-2   \n",
      "1130                3166.0              Bologna                   4-1-4-1   \n",
      "4185                3254.0            Frosinone                     4-3-3   \n",
      "4538                3254.0            Frosinone                     4-3-3   \n",
      "...                    ...                  ...                       ...   \n",
      "492458              3158.0                 Roma                     4-3-3   \n",
      "492588              3172.0             Atalanta                   3-4-1-2   \n",
      "493141              3172.0             Atalanta                   3-4-1-2   \n",
      "494303              3172.0             Atalanta                   3-4-1-2   \n",
      "495127              3236.0                Monza                     5-4-1   \n",
      "\n",
      "       with_shot with_shot_on_goal with_goal   flank  xg_possession  \\\n",
      "393         True             False     False    left         0.0762   \n",
      "423        False             False     False   right         0.0000   \n",
      "1130         NaN               NaN       NaN     NaN            NaN   \n",
      "4185       False             False     False    left         0.0000   \n",
      "4538         NaN               NaN       NaN     NaN            NaN   \n",
      "...          ...               ...       ...     ...            ...   \n",
      "492458     False             False     False   right         0.0000   \n",
      "492588       NaN               NaN       NaN     NaN            NaN   \n",
      "493141     False             False     False    left         0.0000   \n",
      "494303       NaN               NaN       NaN     NaN            NaN   \n",
      "495127     False             False     False  center         0.0000   \n",
      "\n",
      "        back_pass  short_or_medium_pass  lateral_pass  forward_pass  \\\n",
      "393             0                     1             0             0   \n",
      "423             0                     1             0             0   \n",
      "1130            0                     1             0             0   \n",
      "4185            0                     1             0             0   \n",
      "4538            0                     1             0             0   \n",
      "...           ...                   ...           ...           ...   \n",
      "492458          0                     1             0             0   \n",
      "492588          0                     1             0             0   \n",
      "493141          0                     1             0             0   \n",
      "494303          0                     1             0             0   \n",
      "495127          0                     1             0             0   \n",
      "\n",
      "        progressive_pass  loose_ball_duel  carry  long_pass  \\\n",
      "393                    0                0      0          0   \n",
      "423                    1                0      0          0   \n",
      "1130                   1                0      0          0   \n",
      "4185                   0                0      0          0   \n",
      "4538                   0                0      0          0   \n",
      "...                  ...              ...    ...        ...   \n",
      "492458                 0                0      0          0   \n",
      "492588                 0                0      0          0   \n",
      "493141                 0                0      0          0   \n",
      "494303                 1                0      0          0   \n",
      "495127                 1                0      0          0   \n",
      "\n",
      "        pass_to_final_third  opportunity  head_pass  recovery  under_pressure  \\\n",
      "393                       1            0          0         0               0   \n",
      "423                       0            0          0         0               0   \n",
      "1130                      0            0          0         0               0   \n",
      "4185                      0            0          0         0               0   \n",
      "4538                      0            0          0         0               0   \n",
      "...                     ...          ...        ...       ...             ...   \n",
      "492458                    0            0          0         0               0   \n",
      "492588                    0            0          0         0               0   \n",
      "493141                    0            0          0         0               1   \n",
      "494303                    1            0          0         0               0   \n",
      "495127                    1            0          0         0               0   \n",
      "\n",
      "        ball_out  loss  hand_pass  foul_suffered  ground_duel  linkup_play  \\\n",
      "393            0     0          0              0            0            0   \n",
      "423            0     1          0              0            0            0   \n",
      "1130           0     1          0              0            0            0   \n",
      "4185           0     0          0              0            0            0   \n",
      "4538           0     1          0              0            0            0   \n",
      "...          ...   ...        ...            ...          ...          ...   \n",
      "492458         0     0          0              0            0            0   \n",
      "492588         0     0          0              0            0            0   \n",
      "493141         0     1          0              0            0            0   \n",
      "494303         0     0          0              0            0            0   \n",
      "495127         0     0          0              0            0            0   \n",
      "\n",
      "        offensive_duel  defensive_duel  foul  dribble  aerial_duel  \\\n",
      "393                  0               0     0        0            0   \n",
      "423                  0               0     0        0            0   \n",
      "1130                 0               0     0        0            0   \n",
      "4185                 0               0     0        0            0   \n",
      "4538                 0               0     0        0            0   \n",
      "...                ...             ...   ...      ...          ...   \n",
      "492458               0               0     0        0            0   \n",
      "492588               0               0     0        0            0   \n",
      "493141               0               0     0        0            0   \n",
      "494303               0               0     0        0            0   \n",
      "495127               0               0     0        0            0   \n",
      "\n",
      "        counterpressing_recovery  pass  deep_completion  touch_in_box  \\\n",
      "393                            0     0                0             0   \n",
      "423                            0     0                0             0   \n",
      "1130                           0     0                0             0   \n",
      "4185                           0     0                0             0   \n",
      "4538                           0     0                0             0   \n",
      "...                          ...   ...              ...           ...   \n",
      "492458                         0     0                0             0   \n",
      "492588                         0     0                0             0   \n",
      "493141                         0     0                0             0   \n",
      "494303                         0     0                0             0   \n",
      "495127                         0     0                0             0   \n",
      "\n",
      "        interception  sliding_tackle  progressive_run  smart_pass  cross  \\\n",
      "393                0               0                0           0      0   \n",
      "423                0               0                0           0      0   \n",
      "1130               0               0                0           0      0   \n",
      "4185               0               0                0           0      0   \n",
      "4538               0               0                0           0      0   \n",
      "...              ...             ...              ...         ...    ...   \n",
      "492458             0               0                0           0      0   \n",
      "492588             0               0                0           0      0   \n",
      "493141             0               0                0           0      0   \n",
      "494303             0               0                0           0      0   \n",
      "495127             0               0                0           0      0   \n",
      "\n",
      "        deep_completed_cross  pass_to_penalty_area  second_assist  assist  \\\n",
      "393                        0                     0              0       0   \n",
      "423                        0                     0              0       0   \n",
      "1130                       0                     0              0       0   \n",
      "4185                       0                     0              0       0   \n",
      "4538                       0                     0              0       0   \n",
      "...                      ...                   ...            ...     ...   \n",
      "492458                     0                     0              0       0   \n",
      "492588                     0                     0              0       0   \n",
      "493141                     0                     0              0       0   \n",
      "494303                     0                     0              0       0   \n",
      "495127                     0                     0              0       0   \n",
      "\n",
      "        key_pass  shot_assist  goal  conceded_goal  dribbled_past_attempt  \\\n",
      "393            0            0     0              0                      0   \n",
      "423            0            0     0              0                      0   \n",
      "1130           0            0     0              0                      0   \n",
      "4185           0            0     0              0                      0   \n",
      "4538           0            0     0              0                      0   \n",
      "...          ...          ...   ...            ...                    ...   \n",
      "492458         0            0     0              0                      0   \n",
      "492588         0            0     0              0                      0   \n",
      "493141         0            0     0              0                      0   \n",
      "494303         0            0     0              0                      0   \n",
      "495127         0            0     0              0                      0   \n",
      "\n",
      "        shot_after_throw_in  shot_block  free_kick_cross  save  \\\n",
      "393                       0           0                0     0   \n",
      "423                       0           0                0     0   \n",
      "1130                      0           0                0     0   \n",
      "4185                      0           0                0     0   \n",
      "4538                      0           0                0     0   \n",
      "...                     ...         ...              ...   ...   \n",
      "492458                    0           0                0     0   \n",
      "492588                    0           0                0     0   \n",
      "493141                    0           0                0     0   \n",
      "494303                    0           0                0     0   \n",
      "495127                    0           0                0     0   \n",
      "\n",
      "        save_with_reflex  shot_after_corner  cross_blocked  through_pass  \\\n",
      "393                    0                  0              0             0   \n",
      "423                    0                  0              0             0   \n",
      "1130                   0                  0              0             0   \n",
      "4185                   0                  0              0             0   \n",
      "4538                   0                  0              0             0   \n",
      "...                  ...                ...            ...           ...   \n",
      "492458                 0                  0              0             0   \n",
      "492588                 0                  0              0             0   \n",
      "493141                 0                  0              0             0   \n",
      "494303                 0                  0              0             0   \n",
      "495127                 0                  0              0             0   \n",
      "\n",
      "        free_kick_shot  shot  head_shot  whistle  shot_after_free_kick  \\\n",
      "393                  0     0          0        0                     0   \n",
      "423                  0     0          0        0                     0   \n",
      "1130                 0     0          0        0                     0   \n",
      "4185                 0     0          0        0                     0   \n",
      "4538                 0     0          0        0                     0   \n",
      "...                ...   ...        ...      ...                   ...   \n",
      "492458               0     0          0        0                     0   \n",
      "492588               0     0          0        0                     0   \n",
      "493141               0     0          0        0                     0   \n",
      "494303               0     0          0        0                     0   \n",
      "495127               0     0          0        0                     0   \n",
      "\n",
      "        acceleration  penalty_foul  penalty_goal  penalty_conceded_goal  \\\n",
      "393                0             0             0                      0   \n",
      "423                0             0             0                      0   \n",
      "1130               0             0             0                      0   \n",
      "4185               0             0             0                      0   \n",
      "4538               0             0             0                      0   \n",
      "...              ...           ...           ...                    ...   \n",
      "492458             0             0             0                      0   \n",
      "492588             0             0             0                      0   \n",
      "493141             0             0             0                      0   \n",
      "494303             0             0             0                      0   \n",
      "495127             0             0             0                      0   \n",
      "\n",
      "        third_assist  penalty_save  normal_pass  accurate  not_accurate  \n",
      "393                0             0            1         1             0  \n",
      "423                0             0            1         0             1  \n",
      "1130               0             0            1         0             1  \n",
      "4185               0             0            1         1             0  \n",
      "4538               0             0            1         0             1  \n",
      "...              ...           ...          ...       ...           ...  \n",
      "492458             0             0            1         1             0  \n",
      "492588             0             0            1         1             0  \n",
      "493141             0             0            1         0             1  \n",
      "494303             0             0            1         0             1  \n",
      "495127             0             0            1         0             1  \n",
      "\n",
      "[1155 rows x 145 columns]\n"
     ]
    }
   ],
   "source": [
    "print(df_smaller_12[(df_smaller_12['pass_angle'] >= -45) & (df_smaller_12['pass_angle'] <= 45)])"
   ]
  },
  {
   "cell_type": "code",
   "execution_count": 167,
   "metadata": {},
   "outputs": [],
   "source": [
    "#Dividing the smaller than 12 meter passes over the forward, back and lateral based on their passing degree. \n",
    "df_pass.loc[\n",
    "    (df_pass['forward_pass'] == 0) & \n",
    "    (df_pass['back_pass'] == 0) & \n",
    "    (df_pass['lateral_pass'] == 0) & \n",
    "    (((df_pass['pass_angle'] > -135) & (df_pass['pass_angle'] < -45)) | \n",
    "     ((df_pass['pass_angle'] > 45) & (df_pass['pass_angle'] < 135))),\n",
    "    'lateral_pass'\n",
    "] = 1\n",
    "\n",
    "df_pass.loc[\n",
    "    (df_pass['forward_pass'] == 0) & \n",
    "    (df_pass['back_pass'] == 0) & \n",
    "    (df_pass['lateral_pass'] == 0) & \n",
    "    (df_pass['pass_angle'] >= -45) & \n",
    "    (df_pass['pass_angle'] <= 45), \n",
    "    'forward_pass'\n",
    "] = 1\n",
    "\n",
    "df_pass.loc[\n",
    "    (df_pass['forward_pass'] == 0) & \n",
    "    (df_pass['back_pass'] == 0) & \n",
    "    (df_pass['lateral_pass'] == 0) & \n",
    "    ((df_pass['pass_angle'] <= -135) | \n",
    "     (df_pass['pass_angle'] >= 135)), \n",
    "    'back_pass'\n",
    "] = 1\n"
   ]
  },
  {
   "cell_type": "code",
   "execution_count": 168,
   "metadata": {},
   "outputs": [
    {
     "name": "stdout",
     "output_type": "stream",
     "text": [
      "1576\n",
      "1021\n",
      "35125\n",
      "200893\n",
      "398\n",
      "144\n",
      "639\n"
     ]
    }
   ],
   "source": [
    "#Smart/Progressive/Key pass\n",
    "df_smart = df_pass[df_pass['smart_pass'] == 1]\n",
    "print(len(df_smart))\n",
    "df_key = df_pass[df_pass['key_pass'] == 1]\n",
    "print(len(df_key))\n",
    "df_progressive = df_pass[df_pass['progressive_pass'] == 1]\n",
    "print(len(df_progressive))\n",
    "df_not_progr_key_smart = df_pass[(df_pass['smart_pass'] == 0) & (df_pass['progressive_pass'] == 0) & (df_pass['key_pass'] == 0)]\n",
    "print(len(df_not_progr_key_smart))\n",
    "\n",
    "df_key_progressive = df_pass[(df_pass['key_pass'] == 1) & (df_pass['progressive_pass'] == 1)]\n",
    "print(len(df_key_progressive))\n",
    "df_key_smart = df_pass[(df_pass['key_pass'] == 1) & (df_pass['smart_pass'] == 1)]\n",
    "print(len(df_key_smart))\n",
    "df_progressive_smart = df_pass[(df_pass['progressive_pass'] == 1) & (df_pass['smart_pass'] == 1)]\n",
    "print(len(df_progressive_smart))\n",
    "\n",
    "#It can be concluded that the one does not exclude the other. So it can not be classified seperate from each other. New column adding for none of those options"
   ]
  },
  {
   "cell_type": "code",
   "execution_count": 169,
   "metadata": {},
   "outputs": [
    {
     "name": "stdout",
     "output_type": "stream",
     "text": [
      "4027\n",
      "5781\n",
      "27565\n",
      "2604 458 1653\n"
     ]
    }
   ],
   "source": [
    "#Into area:\n",
    "df_deep_completion = df_pass[df_pass['deep_completion'] == 1]\n",
    "print(len(df_deep_completion))\n",
    "df_into_penalty_area = df_pass[df_pass['pass_to_penalty_area'] == 1]\n",
    "print(len(df_into_penalty_area))\n",
    "df_into_final_third = df_pass[df_pass['pass_to_final_third'] == 1]\n",
    "print(len(df_into_final_third))\n",
    "\n",
    "df_deep_completion_and_penalty_area = df_pass[(df_pass['deep_completion'] == 1) & (df_pass['pass_to_penalty_area'] == 1)]\n",
    "df_deep_completion_and_final_third = df_pass[(df_pass['deep_completion'] == 1) & (df_pass['pass_to_final_third'] == 1)]\n",
    "df_final_third_and_penalty_area = df_pass[(df_pass['pass_to_final_third'] == 1) & (df_pass['pass_to_penalty_area'] == 1)]\n",
    "print(len(df_deep_completion_and_penalty_area), len(df_deep_completion_and_final_third), len(df_final_third_and_penalty_area))\n",
    "\n",
    "#They don't exclude each other. \n"
   ]
  },
  {
   "cell_type": "code",
   "execution_count": 170,
   "metadata": {},
   "outputs": [],
   "source": [
    "df_pass['accurate'] = 0\n",
    "df_pass['not_accurate'] = 0\n",
    "# Set the values based on the 'pass_accurate' column\n",
    "# Set values based on 'pass_accurate' column\n",
    "df_pass.loc[(df_pass['pass_accurate'] == True), 'accurate'] = 1\n",
    "df_pass.loc[(df_pass['pass_accurate'] == False), 'not_accurate'] = 1"
   ]
  },
  {
   "cell_type": "code",
   "execution_count": 172,
   "metadata": {},
   "outputs": [],
   "source": [
    "def select_minimum_clips(df, primary_type, attribute_sets, max_difference_per_set=500, min_clips_per_attribute=1050, chunk_size=10000):\n",
    "    # Filter the DataFrame for the specified primary type\n",
    "    primary_df = df \n",
    "    # Dictionary to hold the selected clips for each attribute set\n",
    "    selected_clips_dict = {attr_set: [] for attr_set in attribute_sets}\n",
    "    \n",
    "    # Function to check if all attribute sets have enough clips\n",
    "    def all_attribute_sets_satisfied():\n",
    "        return all(len(clips) >= min_clips_per_attribute * len(attr_set) for attr_set, clips in selected_clips_dict.items())\n",
    "    \n",
    "    # Iterate through the DataFrame once per attribute set\n",
    "    for attr_set in attribute_sets:\n",
    "        attr_clips = []\n",
    "        for attr in attr_set:\n",
    "            # Extract clips where the specific column (attr) is True (1)\n",
    "            attr_clips.extend(primary_df[primary_df[attr] == 1]['event_id'].tolist())\n",
    "        \n",
    "        # Shuffle the clips to randomize selection\n",
    "        np.random.shuffle(attr_clips)\n",
    "        \n",
    "        # Select exactly min_clips_per_attribute clips for this attribute set\n",
    "        selected_clips_dict[attr_set] = attr_clips[:min_clips_per_attribute]\n",
    "        \n",
    "        # Check if all attribute sets have enough clips after each set\n",
    "        if all_attribute_sets_satisfied():\n",
    "            break\n",
    "    \n",
    "    # Combine all selected clips ensuring no duplicates\n",
    "    selected_clips = set()\n",
    "    for clips in selected_clips_dict.values():\n",
    "        selected_clips.update(clips)\n",
    "\n",
    "    return selected_clips"
   ]
  },
  {
   "cell_type": "code",
   "execution_count": 173,
   "metadata": {},
   "outputs": [
    {
     "name": "stdout",
     "output_type": "stream",
     "text": [
      "Selected clip IDs: {2093875211, 1770815508, 1724481557, 1777958943, 1777958946, 1777958947, 1770815552, 2130903106, 1785888840, 1744273501, 2093875297, 1810759789, 1777959022, 1835171951, 2130903159, 1810759800, 2093875323, 2100199547, 1770815615, 1777959043, 1819115655, 1835171979, 2130903202, 1785888935, 1813545131, 1819115694, 1835172017, 1813545137, 2090598587, 2090598588, 1911881919, 1874329807, 1911881937, 1819115750, 1813545192, 2090598632, 1724481771, 1835172102, 1874329865, 2130903306, 1911881999, 2130903328, 1744273702, 1911882028, 1797030191, 1742405938, 1911882037, 2100003128, 1742405945, 1770815814, 1777959239, 1785889099, 1911882072, 1835172193, 1744273781, 1861058941, 1777959301, 1813545353, 1785889162, 1797030286, 2100199823, 1861058960, 2130903450, 2090598811, 1744273827, 1797030308, 1819115941, 1811579306, 1777959343, 1911882161, 2100003253, 1813545410, 2090598857, 1813545421, 1744273881, 1744273897, 1770815977, 1829896695, 1835172346, 1785889276, 2100003324, 1785889281, 1797030411, 1770816012, 1861059086, 1811579408, 1829896721, 1785889298, 1810760226, 1742406178, 2100003369, 1813545523, 1744273977, 1829896770, 1785889354, 1813545546, 2130903628, 1835172429, 1813545548, 1810760285, 2100200030, 1835172447, 1724482142, 2100200036, 1785889381, 1785889383, 1777959527, 1785889395, 1813545588, 2090599029, 1777959542, 1724482163, 1744274035, 1770816125, 1810760325, 1724482185, 2100200075, 1777959565, 2100200079, 1835172508, 1777959580, 1835172511, 1777959584, 1811579556, 1797030569, 1811579563, 1911882420, 1797030583, 2130903737, 1874330303, 1911882432, 1911882438, 2130903758, 2130903762, 1810760404, 1770816212, 1810760415, 1742406368, 1785889504, 1785889505, 1861059299, 2130903780, 1744274147, 2100200161, 1797030632, 1744274154, 1797030636, 1829896941, 1870856942, 1770816245, 1770816246, 1811579661, 2090599183, 2130903824, 1797030674, 1811579677, 2130903839, 1911882540, 1874330414, 1785889582, 1835172654, 2100003639, 1874330423, 1785889593, 2100003646, 2100003647, 1874330432, 1742406466, 1911882563, 1777959749, 2100200273, 1835172691, 2130903892, 2100003670, 1742406490, 1813545822, 1811579752, 2090599275, 2100200301, 1874330483, 1785889655, 1724482424, 2100200311, 2090599291, 1874330491, 1835172732, 1742406528, 2100200322, 1829897090, 2090599300, 2100200329, 1742406544, 1861059473, 1911882644, 1835172757, 1835172760, 1744274331, 1861059484, 2100200354, 1724482489, 1744274366, 1835172809, 1770816464, 1785889747, 1811579860, 1835172823, 2100200407, 1874330587, 1770816477, 1744274403, 1911882723, 1874330599, 1742406635, 2130904044, 1781662717, 1874330622, 1770816525, 2100200462, 1835172883, 1874330645, 1724482590, 1797030942, 1742406686, 1811579941, 1785889835, 1829897265, 1911882805, 1770816566, 1770816567, 1724482626, 1911882820, 2100200517, 1811579977, 1797030990, 1724482641, 2130904146, 1785889876, 2100003925, 1861059676, 1813546078, 2130904175, 1870857331, 1861059702, 1829897339, 1861059709, 1770816637, 2100200577, 2100003970, 1797031047, 1829897352, 2100003985, 1861059732, 1829897366, 2130904228, 1781662908, 1861059782, 2088961224, 1785889992, 1870857425, 1742406883, 1785890020, 1870857454, 1874330863, 1742406896, 1785890039, 1811580151, 1874330873, 1781662970, 2142733559, 1829897472, 1911883009, 1813546241, 1770816771, 1813546240, 1785890054, 1811580166, 1781662988, 1724482844, 1911883049, 1937900843, 1861059890, 2088961334, 1785890106, 1861059898, 1870857533, 1724482894, 1811580238, 1781663059, 1861059932, 1724482911, 1785890147, 1742407017, 1785890156, 1785890157, 1781663086, 2100004209, 2130904440, 1770816895, 1874331016, 1874331019, 1811580303, 2088961425, 1811580320, 1937900961, 1813546401, 1861060004, 1770816938, 2142733740, 1911883180, 1811580340, 2109507013, 2130904529, 1937901021, 1870857693, 1724483046, 1861060073, 1911883244, 2088961519, 1869055474, 1813546493, 2100004352, 1813546499, 1874331142, 1724483079, 2109507084, 1813546512, 1813546520, 1829897762, 2088961571, 1937901092, 1937901090, 1861060149, 1724483132, 1869055556, 2010515015, 1911883337, 1861060170, 1813546571, 1861060174, 1811580504, 1960314476, 1770817140, 1724483217, 2100004499, 1870857877, 2088961694, 1781663391, 1911883432, 1960314537, 1724483250, 1861060278, 2100004534, 1781663422, 2109507265, 1811580613, 1874331339, 2100004558, 2010515151, 1937901262, 1724483288, 1878230744, 1861060336, 1770817271, 1878230776, 1781663479, 1724483329, 2109507338, 1770817291, 2109507340, 1869055758, 1781663506, 2088961815, 1829898007, 1813546777, 2088961818, 2109507369, 1878230827, 2109507371, 1869055787, 1878230833, 1770817336, 1878230842, 1870858043, 1878230848, 1987020618, 1987020620, 1870858063, 1878230866, 2088961875, 1960314706, 2100004693, 1724483421, 1960314723, 1724483431, 2142734185, 1829898091, 1870858109, 2100004736, 1869055881, 1878230924, 2088961935, 1781663632, 1781663633, 1987020693, 1911883671, 1911883672, 2100004761, 2088961946, 2010515358, 2142734245, 1911883685, 1960314797, 1781663664, 1861060531, 1869055927, 1861060537, 1724483514, 1724483515, 1861060538, 1829898179, 2100004809, 2100004817, 2010515411, 2010515417, 2010515427, 1960314851, 1829898214, 1960314856, 1937901545, 1781663721, 1960314858, 1724483566, 1861060595, 1878231032, 2044594173, 2100004877, 2088962061, 2088962063, 1870858255, 1870858259, 1861060637, 1870858281, 1829898287, 1829898292, 1782417466, 1861060668, 1960314943, 1861060672, 1960314958, 1960314966, 1782417500, 2142734431, 2109507681, 1778780263, 2044594280, 1861060713, 1829898346, 2142734441, 1937901677, 1937901681, 2044594294, 1960315001, 1911883905, 1759873155, 1869056136, 2109507722, 1870858379, 1911883919, 1870858386, 1937901715, 1811581076, 1759873178, 1987020955, 1987020968, 1987020979, 2142734515, 1829898421, 1869056183, 1870858426, 1781663935, 1759873218, 1861060803, 2109507781, 1724483785, 1911883979, 1870858449, 2044594387, 2010515681, 1987021027, 1782417636, 1911884004, 1724483821, 1949436143, 2142734581, 2088962297, 1878231289, 2044594430, 1861060869, 2142734600, 1870858512, 1781664025, 2010515739, 1861060893, 1759873312, 1878231332, 1724483885, 1861060915, 1782417718, 1937901883, 1960315198, 1878231368, 1778256218, 1782417756, 2044594525, 1960315237, 1937901934, 1778780527, 1829898607, 1778780539, 2044594562, 1778780547, 2142734728, 2109507977, 1878231434, 1878231433, 1960315281, 1869056401, 1870858644, 1869056404, 2044594581, 1724483995, 1759873437, 1878231455, 1778256289, 1987021218, 1937901997, 1869056430, 1778780590, 1870858673, 1878231476, 2010515893, 1878231479, 2010515897, 2088962499, 1987021254, 2142734796, 1878231501, 1960315343, 2044594649, 1778256348, 1778780643, 2109508070, 1960315371, 1782417908, 1724484086, 1987021305, 1778256403, 1937902103, 1724484125, 1937902113, 2010516005, 1937902128, 2142734897, 1870858801, 2044594739, 1724484152, 1878231609, 1960315459, 1782417994, 1759873612, 2088962638, 2044594768, 1949436500, 1870858839, 1801325145, 1960315483, 1778780765, 1782418017, 1781664368, 2010516081, 1987021432, 2106034809, 2106034810, 2010516090, 1987021433, 1869056646, 1759873672, 1870858896, 1987021457, 1987021462, 2010516121, 1801325211, 2109508261, 1937902258, 1960315576, 2088962748, 2106034878, 1869056704, 1759873731, 1870858949, 1937902293, 1937902295, 2106034903, 2099808985, 1759873758, 1782418143, 2099808993, 1869056737, 2106034915, 1724484331, 2109508335, 2010516229, 2109508370, 1870859029, 1870859030, 2010516247, 1782418202, 1870859034, 2106034973, 1878231837, 1960315690, 2010516268, 2044594995, 1869056820, 1778780984, 2126777149, 2088962878, 1937902401, 2044595013, 2106035016, 2106035022, 2099809103, 2088962906, 1778781033, 2126777198, 1878231919, 2044595054, 2106035058, 1801325426, 2109508471, 1937902460, 1759873917, 2099809153, 1759873923, 2109508483, 2099809157, 2099809162, 1759873934, 1857293198, 1778256782, 2019658641, 2106035091, 2010516372, 2088962971, 2019658662, 2019658673, 1857293233, 2019658677, 2109508534, 1878231992, 1937902521, 1782418362, 2010516413, 2010516414, 1960315838, 1759873983, 1869056968, 2044595145, 2019658703, 1801325520, 1987021783, 2106035172, 1801325542, 2109508595, 1987021814, 1949436927, 2106035204, 1857293317, 1960315911, 2019658762, 1778781196, 1869057048, 2109508645, 1801325608, 1801325613, 1949436980, 1778781243, 1960315973, 1878232136, 1960315979, 2106035282, 2099809364, 2010516566, 1778781278, 1987021924, 1987021928, 2106035313, 1778257009, 2109508723, 1759874163, 2010516599, 1759874169, 2106035322, 2044595321, 1778781306, 2126777469, 2109508734, 2019658891, 1987021963, 1778781324, 1801325711, 2044595347, 1960316053, 2126777496, 1759874202, 2044595361, 2126777507, 2010516644, 2010516648, 2010713259, 2099809453, 2106035377, 1801325747, 2044595381, 2099809462, 1857293493, 2010713277, 2019658943, 1987022015, 1778257094, 2019658955, 1801325772, 1869057244, 1857293533, 2010713331, 2010516729, 1949437185, 1775799553, 1759874310, 1960316170, 2010713359, 2010713374, 1987022120, 1782418732, 1857293614, 1801325882, 1869057338, 1869057340, 1801325885, 2106035518, 2010713404, 1987022153, 1775799629, 1949437266, 1869057363, 1775799636, 2044595540, 1960316258, 1960316263, 1778781545, 2099809643, 1778781547, 2010713457, 1857293681, 2044595583, 1949437312, 2019659141, 1869057420, 2044595615, 2106035618, 2019659189, 2044595640, 1759874489, 2099809720, 2019659198, 1782418892, 1775799759, 2126777812, 1949437396, 2019659223, 1759874522, 2044595675, 2019659230, 2044595686, 2044595691, 1857293808, 2126777850, 2010713598, 2106035712, 2019659267, 2019659270, 1869057553, 2019659283, 1775799854, 2010713650, 2099809844, 1759874628, 1759874633, 2099809879, 1857293913, 2126777948, 1759874653, 1782419044, 2044595814, 2019659387, 2019659388, 1778781823, 1759874690, 1778781827, 2126777989, 2079461001, 1782419082, 2019659402, 1778257549, 2099809953, 2126778020, 1782419117, 2106035886, 1782419123, 1801326268, 1949437636, 2106035908, 2079461083, 2010713820, 2099810014, 1801326308, 1778257638, 1801326323, 2019659508, 1782419189, 1778781952, 1801326338, 2099810062, 2010713873, 1782419221, 1857294118, 1857294120, 1801326377, 2106036018, 2044596019, 1987022646, 2079461175, 1949437755, 1857294145, 2044596051, 1782419289, 1801326426, 1778257756, 1857294172, 1801326435, 1801326448, 2126778225, 2019659645, 2019659652, 1782419338, 1857294227, 1937280918, 2019659671, 1801326487, 2019659675, 1949437859, 1775800234, 1949437887, 1778782154, 1937281011, 2010714108, 1801326608, 2126778399, 1949437991, 2019659820, 1778782260, 2126778432, 2126778445, 1857294439, 1848676456, 1848676469, 1937281143, 1857294468, 1857294475, 1848676492, 1775800459, 1775800462, 2121765010, 2126778519, 2099810456, 1801326750, 1729532065, 1801326755, 1817219244, 2010714286, 1857294514, 2121765042, 2106036404, 1729532085, 2106036411, 2044104893, 1857294528, 2121765059, 2126778564, 2079461577, 1817219282, 1832489171, 2010714327, 1775800547, 1818890467, 2019660014, 1817219312, 2106036465, 1801326838, 1848676625, 1775800597, 2010714391, 2106036504, 2126778654, 2010714399, 1848676642, 1848676645, 1775800617, 2106036522, 1818890541, 2079461685, 2121765176, 1801326913, 1848676677, 1801326927, 1848676700, 2099810653, 1775800670, 2044105065, 2044105073, 2079461748, 1729532277, 2126778744, 1801326978, 1857294724, 2044105095, 2099810708, 1980404121, 1817219483, 1817219484, 2121765277, 1848676767, 2106036640, 2079461809, 2010714556, 1871188415, 2099810755, 2106036677, 1818890697, 1801327053, 2099810765, 1848676818, 1862570461, 2019660254, 2106036702, 2010714598, 2106036718, 1818890738, 2044105202, 2019660278, 1775800822, 1862570488, 1775800832, 1848676874, 1848676894, 1818890784, 1817219616, 2099810849, 2106036786, 1980404277, 1857294906, 2139886144, 1842385479, 1848676943, 1871188564, 2079461977, 2106036826, 2106036831, 1817219680, 1943671392, 1842385507, 1857294949, 1742279282, 1943671426, 1818890897, 1857295001, 2121765537, 2010714788, 1871188651, 1729532594, 2010714809, 2079462075, 1832489662, 2010714814, 1937281733, 1871188683, 1818890958, 2139886288, 1775801043, 2079462101, 2079462108, 1729532639, 1980404448, 1842385643, 1848677100, 1775801074, 2121765620, 1848677112, 1742279419, 1842385661, 1729532671, 1842385665, 1842385670, 1871188746, 1775801105, 1937281812, 1937281813, 1943671575, 1842385688, 1832489766, 1862570793, 1937281839, 1742279475, 1832489784, 1937281851, 1848677191, 1980404552, 1742279499, 1862570827, 1943671646, 1729532766, 1980404574, 1818891105, 2121765744, 1742279538, 1862570872, 1729532794, 1862570875, 1832489851, 1818891160, 2121765788, 2139886492, 2139886494, 1943671711, 1817220000, 1862570919, 1862570923, 1871188918, 2121765818, 2079462341, 1832489931, 2019365839, 1842385881, 1742279645, 1943671781, 1842385902, 1943671798, 1742279671, 1842385913, 1832489984, 1848677376, 1817220099, 1817220104, 1871189011, 2121765914, 1832490018, 2139886632, 2079462441, 2079462449, 2019365939, 1818891331, 1842385994, 2139886672, 1862571093, 2044105819, 1742279781, 2121765990, 1729533031, 2121765996, 1937282162, 2044105847, 2139886712, 1832490104, 1742279806, 1937282175, 2121766018, 2010715270, 1817220230, 1780913293, 1817220243, 1729533075, 2010715287, 1729533084, 1937282208, 1780913313, 1764168864, 1764168867, 1764168868, 1818891430, 1980404905, 1742279850, 2079462571, 1818891433, 2139886765, 2044105904, 1848677554, 1817220274, 1780913333, 2139886776, 1848677562, 2044105925, 2019366087, 1780913360, 1742279897, 2121766105, 1848677599, 2044105956, 1848677605, 1871189224, 2121766130, 1780913394, 1988859128, 1871189246, 1780913413, 1937282317, 2044106000, 1848677653, 1937282337, 2120717604, 1871189289, 2044106031, 1729533231, 1817220400, 1742279989, 1780913466, 1729533246, 1980405062, 1980405066, 1877316938, 1817220436, 1818891608, 1988859227, 2120717659, 1780913503, 1988859234, 1988859235, 1817220453, 1937282410, 1764169066, 1764169071, 1817220468, 1988859252, 1764169078, 1842386296, 1842386301, 2044106109, 1818891647, 2121766271, 1877316997, 1764169100, 1988859279, 1817220500, 1848677781, 1832490390, 1832490391, 2019366297, 2139887002, 1980405147, 1832490406, 2044106153, 1943672236, 2139887020, 2044106158, 1780913583, 1742280112, 2044106161, 2079462843, 1764169164, 1729533395, 1848677849, 1842386396, 2044106205, 2120717788, 1988859370, 2121766387, 2139887091, 1988859379, 1780913658, 1988859395, 1988859396, 2135528967, 1848677900, 1862571532, 1818891790, 1842386446, 1980405281, 1877317155, 1862571561, 1988859437, 2120717871, 2120717873, 1729533496, 1871189562, 1988859453, 1729533509, 2044106314, 2125567562, 1872860751, 2121766482, 1842386518, 1780913753, 2125567578, 2121766493, 2003834464, 2120717921, 1729533542, 1764169323, 1877317230, 1842386544, 1832490610, 2135529074, 1988859509, 2044106358, 1764169335, 1980405368, 1980405370, 1817220731, 1742280318, 1980405377, 1988859526, 2120717959, 2044106379, 2003834511, 1817220754, 1764169367, 1817220760, 1818891936, 1943672484, 1848678053, 1988859558, 1842386600, 1832490664, 1729533612, 2125567660, 1943672494, 1988859567, 1937282745, 1818891966, 2121766590, 2003834560, 1848678081, 1842386627, 1764169419, 2019366605, 1980405461, 1988859608, 1848678106, 1818892001, 1780913891, 1742280423, 1729533674, 1877317358, 2125567727, 1780913904, 1872860918, 1862571778, 2121766660, 2121766661, 1877317390, 1818892047, 1877317395, 2003834651, 1980405532, 1877317403, 1937282850, 2139887395, 2135529252, 1780913958, 2003834664, 1943672617, 2121766698, 2044106541, 1980405550, 1780913966, 2121766701, 2044106548, 1872860986, 1842386747, 2125567804, 2125567805, 1842386752, 1848678209, 1871189825, 2003834691, 1877317444, 1817220932, 2121766726, 2003834706, 1817220950, 1877317464, 1742280541, 1729533792, 1764169585, 1988859768, 2044106617, 1871189886, 1872861056, 1943672704, 2019366791, 1780914058, 2139887499, 1729533840, 1937282961, 2125567892, 2125567897, 1937282971, 1861752732, 1871189916, 1877317536, 1832490918, 1862571951, 1943672760, 2126944187, 1872861129, 2120718286, 1861752783, 1872861137, 2019366869, 1861752789, 2139887576, 1729533916, 2019366880, 1729533928, 1872861160, 1988859886, 1742280717, 1832491040, 2003834921, 1827936299, 1988859951, 1988859961, 1832491071, 1862572099, 1988859979, 2051381326, 1827936335, 2120718417, 1742280790, 1764169816, 2135529564, 1827936348, 1742280797, 1988860006, 1980405863, 1988860009, 1729534057, 1827936371, 1827936372, 1842387060, 1877317750, 2125568124, 1988860032, 1861752962, 2135529604, 2120718469, 2051381391, 1764169882, 1827936413, 1842387101, 1943672992, 1780914336, 1780914338, 2139887776, 1780914345, 2003835069, 2120718526, 1729534141, 2125568191, 1842387137, 2044106949, 2126944458, 2126944459, 2126944467, 1980405973, 1821612246, 1838651614, 2099058924, 2125568238, 1827936496, 1877317872, 1827936498, 1780914424, 1861753081, 1872861435, 2099058941, 1827936509, 2125568261, 1980406034, 2003835160, 1842387229, 1872861470, 1827936546, 2135529770, 2003835180, 1838651692, 1861753141, 2019367230, 1827936590, 2099059025, 1861753174, 1742281046, 1943673181, 2135529826, 1742281064, 1861753193, 1764170090, 1764170098, 2099059062, 2120718711, 1838651775, 1838651777, 1861753225, 1980406154, 2126944654, 2003835279, 1943673232, 2051381650, 2003835291, 1821612448, 2051381667, 2019367334, 1943673255, 2135529894, 1764170153, 1861753258, 1877318059, 2120718771, 1780914615, 2120718775, 2125568440, 1780914618, 1780914621, 2125568451, 1943673293, 2135529938, 1832229330, 2125568472, 2051381724, 2051381725, 2135529950, 2139888103, 1838651884, 1821612530, 2135529972, 2051381755, 1821612545, 1742281225, 1821612556, 1872861712, 1742281242, 1861753372, 2125568542, 2120718879, 1742281250, 1838651938, 1872861731, 1780914735, 1764170290, 2120718899, 1865226817, 1780914753, 2120718919, 1832229473, 1865226850, 1861753447, 1832229479, 1832229482, 1742281323, 1827936875, 2051381893, 1821612681, 2051381904, 1861753491, 2003835548, 1821612701, 2135530142, 1764170406, 2135530170, 2125568704, 1827936963, 2125568708, 1780914884, 1838652105, 2125568719, 2051381985, 2120719074, 1865226984, 1780914921, 1865226988, 2003835628, 1872861946, 1877318399, 2120719104, 2120719107, 1764170503, 2135530256, 2120719127, 1832229658, 1827937053, 2135530270, 1737693981, 1838652197, 1877318440, 2125568811, 2126945091, 2003835717, 1861753673, 2099059534, 1821612879, 1861753681, 2126945110, 1865227095, 2099059555, 1827937124, 1827937125, 1827937127, 2120719210, 1877318516, 1737694077, 1780915076, 1821612934, 1861753737, 2120719243, 2051382162, 1737694102, 1827937183, 1827937184, 2135530407, 2003835825, 2124454834, 1877318585, 1832229821, 1838652351, 2124454848, 2003835840, 1827937218, 2051382220, 1737694157, 1827937239, 1768201179, 2099059684, 1832229862, 1832229864, 1861753846, 2099059703, 2124454903, 2125569017, 2125569020, 1780915197, 1827937286, 2051382285, 2120719377, 1821613073, 1821613080, 1877318683, 1861753890, 1861753893, 2099944491, 1838652461, 1768201263, 2120719407, 2003835966, 2135530564, 1872862276, 2125569094, 2051382343, 1872862280, 2099059785, 1832229957, 1737694284, 1827937358, 1821613139, 1872862291, 1877318749, 1827937374, 1768201309, 1737694304, 2051382373, 1861753963, 2099944561, 2051382388, 1838652549, 1821613198, 2135530644, 1838652565, 1821613209, 1832230047, 1861754017, 2099059873, 1768201391, 2135530671, 1827937455, 1768201398, 1827937465, 1865227480, 1821613278, 1861754088, 2099944684, 2126945527, 1737694462, 2126945543, 1821613323, 2099059989, 1865227544, 2126945576, 2092408117, 1850121526, 1832230204, 2003836220, 2080611650, 1865227592, 2099944806, 1850121578, 2124455283, 1850121588, 1861754228, 1861754230, 1827937653, 1838652792, 2092408188, 2124455293, 2051382671, 1768201620, 1861754270, 2099060129, 2125569442, 1832230309, 1768201646, 1827937710, 1850121653, 2051382727, 1861754321, 1850121683, 1737694677, 2080611804, 2080611805, 1865227761, 1827937779, 1821613560, 1832230396, 1768201728, 2126945803, 2126945811, 1865227795, 2125569562, 2099060254, 2092408360, 2124455465, 1850121780, 1838652983, 2099945021, 2051382845, 1827937859, 2080611911, 1865227859, 1768201823, 2051382893, 2092408431, 2092408434, 1865227903, 1832230530, 2099945096, 1832459912, 1832230536, 2051382924, 1737694862, 2124455568, 2099945106, 2099060376, 2099060382, 2080612001, 1768201890, 1850121919, 1768201920, 1850121922, 2080612038, 1832459986, 1838653145, 2124455648, 1827938023, 1832230632, 2080612081, 1832460028, 2099945225, 2099945226, 2051383051, 2092408611, 1821613864, 1838653227, 1737695023, 2099945267, 1850122036, 2092408631, 2080612152, 1821613881, 1832230723, 1737695053, 2092408655, 2092408662, 2099060569, 2124455775, 1821613923, 1737695075, 2080612211, 1821613941, 1821613948, 1865228160, 1737695109, 1832460166, 1737695112, 2080612245, 1838653343, 1832230823, 2092408753, 2124455874, 1850122182, 2124455880, 2092408777, 1832460237, 1871880142, 1838653392, 2099945429, 1737695189, 2099945435, 2099060704, 1821614057, 2051383277, 2080612336, 1821614073, 1737695226, 1850122235, 1821614074, 2099945476, 2099060750, 2099945495, 2099945498, 2099060764, 1838653468, 1827938335, 1832460321, 2092408875, 2121408564, 1827938356, 1871880247, 1832230971, 1768202320, 1832460375, 1821614167, 1832231021, 2099060846, 1832231027, 1865228410, 2092408957, 2092408969, 2099945613, 1850122383, 1827938453, 2099060886, 1865228441, 1871880346, 2092408990, 1781702815, 1850122424, 1850122432, 1737695430, 2092409031, 2092409063, 1822957804, 1768202500, 1912512778, 1871880463, 1781702936, 2124456219, 2080612638, 2099945760, 2092409128, 1781702956, 1850122546, 1865228596, 1781702966, 1768202551, 1832460605, 2092409150, 1781702984, 2103779665, 1768202580, 2092409176, 2092409183, 1737695590, 1781703037, 1865228677, 1850122631, 1850122643, 2121408940, 1768202693, 2124456398, 2045813221, 1781703160, 1912513021, 2121409025, 1768202757, 2092409349, 1912513040, 1941316115, 2092409370, 1768202779, 1941316132, 2121409062, 1832460851, 2103779901, 1832460868, 2092409414, 2045813327, 1832460880, 2099946063, 2080612946, 1832460884, 1871880791, 1941316187, 1781703271, 2103779947, 1912513134, 1832460911, 2099946102, 2121409151, 1822958217, 1832460944, 2103779988, 1781703316, 1781703325, 1822958242, 1781703337, 1850122923, 2080613038, 2045813424, 2092409521, 1781703352, 1822958269, 1781703359, 2121409218, 2103780036, 1768202960, 1781703389, 1758798559, 2099946219, 1758798572, 1871880944, 1822958329, 1850123002, 2099946235, 1941316347, 2103780093, 1941316350, 1871880967, 2103780104, 2128192266, 2128192271, 2121409308, 1762927397, 2121409325, 1871881006, 1758798646, 1912513342, 1781703487, 1850123074, 1768203076, 2092409694, 2080613222, 1758798701, 2128192371, 1781703558, 1871881097, 2080613258, 1912513418, 1832461201, 1832461212, 1758798756, 1850123176, 1884562346, 2128192437, 2092409789, 2121409471, 2128192449, 2045813698, 1762927555, 2128192454, 2114888658, 2080613334, 1871881195, 1832461294, 1850123250, 1884562418, 1871881206, 1758798840, 1768203258, 2092409857, 1850123266, 1822958608, 1758798865, 2045813779, 1941316629, 1884562468, 2114888742, 2103780394, 1871881265, 2045813811, 1822958648, 1762927672, 1832461373, 1941316672, 1781703749, 1762927686, 1912513605, 1871881289, 1912513613, 2121409618, 2121409629, 2128192608, 1871979617, 1781703779, 1871881320, 2114888834, 1912513670, 1832461448, 1781703835, 2092410027, 1758799020, 1912513712, 1884562627, 1871979725, 2128192725, 2045813981, 1758799072, 1832461538, 2045813988, 1781703908, 1758799078, 1781703919, 2103780593, 2128192755, 2114888966, 1758799119, 1781703953, 2128192786, 1884562711, 1941316903, 1758799145, 1884562732, 1758799157, 2128192833, 1822958918, 1871881544, 1871979851, 1758799187, 1871979863, 2114889049, 1762927962, 1863755099, 2045814117, 1762927980, 1758799213, 2114889076, 2103780732, 1758799239, 2121409928, 1832461715, 1941317011, 1822959001, 1832461726, 1871881638, 1871979973, 1791370694, 2121409996, 1871979981, 1863755213, 2045814224, 2103780833, 2103780836, 2045814247, 1822959085, 2045814256, 2128193012, 2103780854, 2114889211, 1822959105, 1762928145, 2121410070, 1791370774, 1822959132, 1884562984, 1758799418, 2103780923, 1781704250, 1791370814, 2128193097, 1871980116, 1884563029, 1912514136, 1941317216, 2090215015, 2045814376, 1871980139, 2128193135, 2103780975, 1912514161, 1791370871, 2128193145, 1791272585, 1762928270, 1781704342, 2045814425, 1912514217, 1762928318, 2090215103, 1762928335, 1918281425, 1863755483, 1871980258, 2045814498, 1758799593, 1791370986, 1762928365, 1918281457, 1863755505, 1822959351, 2045814520, 1762928379, 2114889469, 2045814533, 1762928391, 1877223182, 2045814555, 2090215197, 2114889502, 1912514340, 1791272741, 2114889510, 1758799658, 1884563244, 1912514355, 2103781180, 2114889535, 1762928459, 2090215247, 1884563287, 2103781211, 1871980384, 1791272802, 2103781223, 2103781232, 1791371120, 2103781236, 1918281589, 1884563319, 1918281608, 2090215304, 1758799754, 2046109584, 1762928529, 2114889617, 1791272855, 1772169114, 1772169116, 1941317542, 1912514471, 2128193447, 1772169130, 2046109613, 2103781295, 2114889647, 2045814703, 2128193457, 1884563382, 1941317562, 1918281660, 2090215357, 1918281665, 1918281675, 2114889675, 1877223373, 1884563413, 1884563414, 2045814742, 1791371229, 1762928615, 1884563435, 1762928620, 2045814766, 1884563439, 1791371248, 2128193521, 2114889712, 1918281718, 1758799867, 1822959613, 1871980547, 2103781385, 1840064536, 1791272984, 1758799898, 1918281752, 1912514590, 1758799918, 1884563502, 2129143858, 2128193590, 1871980598, 2129143864, 1840064569, 2091329595, 2090215485, 2046109760, 1918281793, 1758799940, 1772169285, 2129143878, 1912514631, 2128193609, 2114889805, 1877223501, 1884563535, 2128193613, 1791273044, 1791371354, 1822959708, 2129143904, 1791273057, 2128193637, 2112792678, 1791371369, 1772169325, 1758799990, 1877223551, 1772169350, 1863755915, 2045814924, 1762928782, 1791273108, 1822959770, 1772169370, 2090215584, 2098735271, 2129143979, 1758800056, 2090215610, 2090215612, 1762928828, 2091329728, 2091329731, 2098735300, 1772169417, 1884563657, 1840064714, 1840064720, 1791273176, 1772169433, 1918281950, 1918281957, 1863756010, 2112792811, 1791371513, 2114889979, 2129144061, 2114889986, 1822959878, 1918281991, 2129144072, 2129144075, 1791273232, 1762928913, 1877223705, 2091329819, 2129144093, 1918282014, 2091329833, 1762928942, 1758800176, 1791371578, 2091329852, 1863756092, 1840064834, 2091329861, 1762928965, 1918282053, 2045815113, 2114890059, 2091329871, 2090215759, 2112792915, 1791273301, 1772169560, 1884563808, 1877223777, 1791371621, 1758800231, 2091329904, 2098735479, 1877223800, 2087627132, 1884563842, 2114890115, 2114890114, 2128193928, 1877223821, 1772169615, 2098735511, 1791273370, 2129144220, 2046110114, 1840064933, 1791273390, 1884563887, 2087627182, 2098735548, 1791371709, 2129144254, 1791371708, 2090215879, 2046110160, 1772169681, 2090215893, 2090215897, 1863756250, 1877223904, 1762929124, 2128194023, 2112793069, 2090215929, 1725704700, 2045815308, 1791371789, 1762929168, 2114890260, 2098735652, 1840065064, 1884564013, 1791371826, 2087627316, 2091330104, 1871981120, 2146216520, 2046110283, 1863756365, 2087627346, 1863756374, 2146216535, 1863756377, 2129144411, 1863756381, 1863756383, 2129144416, 1840065126, 2112793192, 1725704810, 2046110321, 2090216058, 1863756411, 2112793226, 2129144460, 1840065171, 2046110356, 2098735770, 1918282395, 1877224091, 2129144479, 2146216610, 1791273634, 1918282408, 2129144493, 1762929326, 2098735789, 2128194225, 1772169911, 1791273658, 1772169920, 2091330244, 2091330247, 2098735818, 1871981259, 2146216653, 2046110424, 2087627487, 2090216176, 2128194295, 1762929403, 2098735868, 1762929405, 2091330306, 2146216707, 1918282506, 1758800651, 2128194326, 1770728215, 1772170007, 1863756567, 1840065303, 1791273755, 2046110503, 1791372071, 1877224235, 1772170028, 1770728240, 1871981364, 2129144631, 2090216249, 2098735934, 2146216784, 1791273810, 2091330393, 2091330398, 2128194401, 2098735970, 2091330407, 1863756650, 2112793455, 2112793456, 1725705085, 2098736010, 1840065419, 2129144718, 1863756687, 2087627667, 2112793491, 1770728345, 1725705115, 1758800799, 1918282662, 2112793512, 2091330474, 2129144759, 2091330490, 1772170177, 1791273930, 2087627723, 2129144780, 2112793549, 1920543707, 2112793569, 1877224423, 1920543721, 2112793578, 2090216433, 2112793586, 2090216444, 1863756797, 1772170241, 2090216452, 2046110731, 1725705230, 2091330579, 1920543770, 2112793638, 1791274024, 2146217008, 1877224513, 2090216514, 1725705295, 2091330648, 2112793690, 2091330653, 2090216546, 1758800995, 1840065647, 1918282877, 2129144960, 1918282885, 1772170384, 2087627928, 1791274142, 2091330719, 1840065697, 1877224617, 2090216618, 2046110891, 1920543920, 1758801073, 1877224629, 2098736314, 1725705403, 2090216636, 2098736317, 2091330749, 2098736316, 1840065728, 1840065730, 2112793795, 1725705413, 1863756998, 1772170449, 1791372497, 2129145047, 2091330780, 1791274204, 1770728673, 2112793836, 1758801135, 2129145085, 2129145089, 1770728708, 1772170503, 1770728716, 2146217235, 2046111015, 1920544041, 1877224751, 2046111027, 1863757114, 2091330890, 2090216778, 1920544081, 1758801235, 2146217299, 1920544087, 1725705563, 2112793950, 2046111072, 2087628133, 2046111081, 1791372662, 1840065912, 1791274373, 1791372683, 2098736524, 1772170645, 2129145243, 1758801310, 2129145249, 1877224867, 1840065958, 2087628201, 2046111156, 1877224895, 2046111170, 2091331021, 1758801361, 1740058070, 2112794106, 2112794114, 2112794127, 1772170771, 1877224985, 2129145371, 2098736673, 2098736687, 2091331127, 2146217527, 1740058189, 1840066132, 1758801494, 2087628376, 2046111331, 1920544386, 1740058249, 1758801549, 1725705873, 1733176978, 1733176980, 2146971301, 1740058279, 1920544430, 1840066223, 1725705912, 2098736825, 1758801597, 2098736838, 1877225160, 1920544465, 1733177047, 1725705963, 2098736876, 1725705986, 1733177090, 2146217731, 1758801679, 1920544531, 1740058399, 1840066336, 1920544545, 1920544546, 1770729254, 1840066358, 2087628610, 1770729288, 2087628625, 2046111579, 1770729312, 1725706096, 1758801779, 2146217851, 1770729340, 1758801789, 2087628679, 1758801801, 2097098634, 1920544659, 1920544664, 1758801816, 1770729373, 1840066463, 1840066467, 1725706158, 1770729419, 1770729424, 2097098714, 1920544738, 1840066533, 1920544750, 1920544755, 2146971645, 1770729474, 2146217992, 1920544783, 1758801947, 2146218016, 2098737186, 2146218022, 1740058670, 1725706302, 2146971718, 1740058699, 1740058707, 2146218073, 2146971741, 1740058717, 2146971743, 2146971761, 1740058753, 1733177482, 1725706383, 1725706385, 1725706396, 1758802082, 1920544936, 1758802089, 2146218156, 1758802100, 1725706424, 1733177535, 2097098955, 2146971852, 1733177555, 1758802141, 1920544993, 1829417188, 1770729718, 1758802167, 1740058874, 1725706502, 2097099016, 1740058892, 1736978703, 1725706532, 1770729776, 2146971955, 1740058952, 1928245578, 1733177675, 1736978779, 2097099104, 1758802275, 1829417319, 1770729832, 1829417321, 1758802298, 1928245626, 2097099148, 1920545178, 1758802336, 1954001313, 1758802341, 1740059077, 1740059084, 1740059090, 1928245724, 1740059105, 1736978918, 1736978921, 1733177834, 1954001387, 2146972144, 2146972158, 1740059135, 1866314277, 1954001445, 1736978990, 1866314303, 2099524179, 1928245844, 1954001496, 1866314329, 1740059229, 2099524223, 1733177989, 1928245894, 1899868814, 2146972302, 1899868819, 1736979092, 1740059285, 1954001556, 1928245920, 2080813745, 1829417650, 1928245939, 1928245949, 1866314438, 2129638087, 1954001606, 2097099474, 2080813780, 1899868901, 1790030566, 1954001646, 2099524340, 1928246006, 2080813817, 2129638147, 2129638152, 1733178120, 1733178126, 1928246042, 1736979235, 1954001701, 1899868980, 1899868984, 2146972477, 2146972484, 2099524429, 2099524431, 1790030674, 1829417815, 2080813913, 1733178203, 2099524454, 2097099636, 1794257781, 1954001784, 1793045376, 1899869056, 2097099687, 2099524530, 1740059572, 1928246197, 2097099707, 2129638335, 1829417925, 1793045448, 2099524557, 2080814040, 1954001888, 1736979430, 2146972647, 1793045481, 1829417975, 1793045513, 1794257933, 1928246308, 2097099828, 1954001974, 2097099832, 2097099836, 1794257998, 1794258002, 2080814163, 2129638494, 2129638510, 2129638513, 1793045619, 2097099894, 2129638519, 1794258041, 1794258044, 2099524752, 2099524758, 1866314911, 1794258085, 2097099957, 1736979649, 1829418185, 1794258123, 2146972877, 2070099151, 1954002144, 2129638625, 1866314980, 1794258158, 1733178611, 2070099190, 2129638655, 2080814337, 2099524872, 2129638665, 1794258189, 2097100046, 1790031127, 1829418274, 1899869482, 1954002233, 1740059962, 2146972988, 2129638723, 1954002253, 1794258257, 1740059986, 1829418330, 1790031198, 2080814431, 1954002272, 1794258277, 1794258288, 2099524977, 1790031218, 1864021364, 1928246645, 2080814459, 1899869572, 1790031245, 2097100177, 2099525016, 1928246687, 1790031264, 2099525034, 2097100205, 1954002358, 2080814520, 1790031294, 1928246720, 2070099400, 1733178828, 1790031317, 1970288085, 1829418456, 1970288091, 1928246765, 1864021488, 1954002417, 1790031346, 1733178875, 2129638908, 1736979969, 1736979973, 1790031366, 1866315277, 1733178893, 2080814612, 2080814615, 2070099488, 1733178912, 1864021537, 1866315299, 1954002471, 1794258472, 1928246823, 2099525163, 1736980013, 1866315321, 1733178946, 1835513417, 2080814677, 2099525206, 2070099541, 1899869781, 1736980057, 1733178974, 1899869794, 1899869799, 2070099559, 1790031464, 1835513450, 1829418604, 1736980083, 1793046133, 1864021621, 2129639031, 1829418616, 1736980090, 1829418635, 1793046155, 1835513496, 1790031515, 1899869877, 2080814778, 1928246974, 1928246983, 1954002635, 1829418707, 1794258652, 1794258658, 1922676455, 1866315496, 1793046255, 1829418736, 1829418740, 1899869940, 1866315512, 1899869946, 2080814847, 1733179138, 1899869958, 1835513609, 2070099723, 1866315532, 1866315535, 1899869968, 2070099733, 1794258710, 2080814876, 2070099745, 1954002721, 1829418786, 1852520228, 1829418791, 1829418794, 1928247083, 1793046318, 1829418799, 1864021811, 1928247094, 1835513664, 1899870018, 1733179204, 2070099781, 2080814926, 2070099799, 1790031704, 1736980314, 2106668898, 1928247139, 1852520295, 2129639275, 1835513712, 1922676596, 1922676614, 1790031758, 1899870097, 1922676627, 1835513757, 1835513759, 2099525536, 1829418913, 1954002847, 1829418920, 1954002859, 1954002860, 1864021934, 2070099888, 1866315699, 1954002871, 2129639355, 1970288572, 1736980412, 1793046464, 1794258882, 1866315726, 1794258896, 1736980435, 2070099924, 2129639385, 1829418970, 1793046521, 1794258939, 1928247295, 1835513861, 1790031885, 1922676760, 1928247324, 1835513886, 1954002974, 1970288673, 1835513889, 2097330221, 1829419055, 1852520505, 1866315842, 2070100035, 2070100037, 1866315845, 1922676809, 1970288713, 1864022091, 1790031963, 2106669148, 2106669149, 2080815195, 2080815204, 2106669157, 1794259049, 2129639536, 2129639547, 2070100099, 2070100100, 1899870341, 1922676871, 1852520583, 1866315916, 1852520594, 1852520595, 2080815252, 2099525796, 1793046697, 2097330350, 2080815279, 1793046704, 2097330352, 1864022194, 2097330359, 2097330360, 1835514049, 1954003146, 2070100170, 1864022228, 2080815316, 2129639640, 2070100185, 2099525850, 2129639643, 2099525858, 2106669290, 1744222455, 1899870456, 2080815356, 1771813124, 1790032150, 1954003228, 1899870493, 1794259237, 1922677049, 1864022337, 2106669384, 1922677064, 1759885651, 1970288981, 1723218265, 2097330529, 1835514227, 2099526010, 2097330557, 1922677123, 2070100359, 1864022408, 1759885710, 1790032276, 1922677141, 1853471136, 1723218370, 1790032325, 1853471180, 1970289102, 2097330639, 1970289110, 1970289113, 1723218398, 2070100448, 1744222690, 1922677223, 1853471209, 1922677229, 2106669550, 1970289145, 1759885822, 1723218434, 1731017221, 1864022538, 1835514382, 1723218449, 1744222737, 1853471252, 1759885846, 1744222742, 1771813413, 1723218472, 1793047083, 1794259501, 1744222766, 1744222780, 2080815677, 1794259518, 2070100543, 1759885884, 1794259536, 1794259538, 1793047127, 2097330782, 1970289247, 2106669665, 1771813473, 1970289253, 1759885929, 1794259565, 1864022638, 1864022649, 1723218563, 1853471363, 1922677381, 1835514507, 1771813526, 2106669728, 2097330851, 1794259622, 1835514535, 1852521131, 1793047215, 1731017393, 1864022715, 2106669760, 1970289344, 1853471430, 1771813589, 1853471448, 1744222938, 1970289374, 1793047267, 1922677479, 1922677483, 2080815853, 1794259704, 2106669831, 2133965585, 2095594262, 1970289434, 1852521242, 1853471523, 1835514660, 2070100773, 1852521257, 1970289453, 2095594287, 1759886140, 2106669904, 2133965650, 1835514710, 2097331037, 1835514730, 1771813743, 1864022897, 1852521336, 1744223101, 1853471632, 1853471635, 2133965726, 1723218848, 1864022946, 1723218851, 1864022949, 2106669992, 1759886253, 2095594422, 1771813822, 1723218881, 1744223175, 2097331152, 1835514838, 1970289622, 1864023002, 1922677725, 1853471709, 2105261024, 1744223207, 1852521451, 1852521453, 1853471726, 1922677745, 1922677753, 2097331193, 2133965826, 1835514887, 1835514893, 1723218964, 2105261077, 1731017750, 1852521513, 1731017769, 2105261102, 1744223282, 1723218995, 1744223300, 2105261125, 2095594566, 1835514954, 2106670161, 1723219028, 1970289756, 2133965918, 1731017827, 2106670180, 1764768869, 1771813992, 1723219052, 1771814000, 2105261169, 1731017845, 1853471861, 2133965954, 2105261187, 2106670222, 2133965967, 1771814032, 1731017882, 1723219102, 1731017886, 1852521635, 1759886502, 1764768937, 1864023216, 2115812531, 2105261246, 1922677965, 1864023245, 2095594701, 1835515095, 2106670311, 2115812584, 1771814125, 1744223476, 1759886581, 2105261303, 1731017977, 1764769023, 2097331456, 2115812611, 2115812620, 1852521753, 1759886631, 1744223550, 2133966147, 1731018054, 1852521808, 2095594853, 1852521836, 1864023405, 1723219310, 1764769132, 2115812741, 1852521866, 2095594895, 2105261456, 1771814298, 1731018145, 2115812779, 2095594931, 2115812789, 1731018170, 2095594948, 1744223695, 2105261525, 2140028374, 2097331672, 2097331673, 2106670565, 2105261543, 1852521970, 2105261564, 2095595011, 2115812885, 2097331739, 2095595040, 1759886887, 1773518379, 2115812912, 2115812923, 1731018313, 1852522071, 1741176419, 1741176426, 1744223853, 2133966450, 1764769398, 1741176439, 2133966463, 1773518466, 1773518468, 2133966471, 2133966484, 1723219607, 1744223898, 1853472411, 2095595164, 2095595184, 1731018419, 2095595193, 1744060090, 1759887034, 1731018433, 2095595212, 1771814615, 1731018458, 1741176543, 1773518573, 1773518576, 1764769520, 1759887090, 1773518580, 2140028661, 1741176568, 2125348600, 1744060154, 1744223997, 1853472515, 1853472524, 2125348626, 2115813139, 2125348630, 2095595287, 2097331997, 1764769580, 2140028716, 1744060207, 1744060224, 1773518660, 1771814725, 1744224080, 2095595350, 2115813212, 1723219807, 1771814767, 1744224112, 1853472623, 2140028791, 1741176708, 2095595400, 2115813260, 2095595407, 1759887258, 2105261979, 2095595425, 1744060325, 2133966760, 2125348781, 2095595438, 1741176755, 1723219904, 2105262019, 1759887302, 2105262028, 2105262034, 1744060383, 1744224229, 1773518828, 2108342253, 1741176817, 2103984122, 2115813377, 1731018753, 2103984138, 1937457165, 1744224276, 1723219989, 2133966868, 2105262117, 2133966885, 1759887415, 1744224316, 1741176897, 2133966917, 1723220043, 1731018829, 2103984209, 1773518932, 1773518933, 1853472857, 2133966951, 1853472887, 2133966973, 2133966980, 2108342406, 2140029067, 2115813519, 2108342420, 1742586010, 1759887519, 1759887520, 1741176992, 1742586032, 2103984307, 1741177032, 1773519049, 2105262288, 1731018964, 1742586069, 2108342486, 1742586071, 1744224469, 1759887579, 1742586075, 1744060648, 1937457396, 2115813626, 1742586110, 1744224519, 2108342540, 2133967125, 1742586138, 1773519131, 1741177132, 1731019059, 1742586171, 2105262399, 2103984451, 2105262415, 2108342608, 2103984475, 1744224609, 2105262440, 2105262441, 1937457514, 1773519214, 1773519215, 1731019123, 2108342651, 1742586236, 1773519229, 1773519228, 2105262464, 1741177221, 1815691662, 1815691664, 1731019161, 1815691675, 1937457564, 2105262500, 1744060836, 2108342692, 1764770212, 1791181240, 1764770232, 1744060876, 2140029407, 2125349343, 1791181291, 1742586348, 1791181292, 1815691759, 1791181298, 1977434612, 1764770294, 1895907831, 1742586360, 1741177339, 2140029436, 1741177343, 2125349376, 1742586372, 1742586375, 1815691788, 1773519377, 2115813912, 2115813915, 2115813916, 1741177371, 1937457701, 1937457711, 1741177396, 2105262645, 1937457720, 1741177400, 1773519418, 1937457723, 1741177403, 1764770365, 1742586437, 1764770382, 1791181394, 2125349459, 1764770390, 1741177442, 1741177449, 1937457770, 1741177453, 1744061040, 2115814010, 2105262716, 1977434752, 1895907984, 2103984790, 2125349528, 1791181465, 1815691933, 1791181473, 2105262757, 2108342949, 2140029607, 2103984819, 2140029625, 1937457853, 2125349566, 2125349576, 1742586583, 1937457898, 1773519594, 1791181548, 1773519600, 1759920881, 1759920883, 2103984890, 2108343041, 1741177604, 1773519625, 1744061198, 2142880538, 1791181598, 2142880543, 2125349662, 1879425823, 1791181604, 1977434917, 2108343076, 1895908142, 2142880560, 1744061234, 1937457971, 1764770626, 1741177673, 1873068873, 2105262926, 2108343128, 1895908191, 2115814240, 1977434977, 1873068904, 2140029800, 2105262971, 1773519741, 1895908222, 1764770696, 1873068940, 1741177745, 1773519761, 2142880662, 1977435031, 1873068952, 1895908254, 1895908266, 1873068973, 1764770746, 1759921088, 2108343237, 2121057229, 1742586830, 1742586835, 1815692246, 1977435097, 1764770779, 1744061406, 1764770798, 1741177853, 1977435134, 1937458178, 2140029961, 1937458199, 1873069079, 1977435167, 1873069097, 1742586921, 1937458221, 1815692341, 1937458229, 2142880821, 2121057337, 1977435195, 1815692349, 2121057341, 1773519941, 1773519952, 1741177940, 1742586971, 1977435227, 2125349983, 2142880871, 1832338540, 1759921262, 1937458289, 1937458297, 2125350016, 2103985289, 2103985291, 1977435279, 1937458321, 2125350040, 1742587033, 1759921305, 1773520026, 1832338600, 1815692459, 1773520046, 1742587055, 1741178032, 1744061621, 1742587064, 1791182009, 2121057466, 1742587067, 2125350082, 1895908553, 2121057493, 1873069279, 1773520095, 1733149929, 2125350130, 1791182070, 1741178106, 1832338710, 1759921430, 1815692588, 1742587184, 2142881073, 1937458494, 1977435459, 1773520198, 2121057614, 2121057618, 1873069404, 1832338781, 1759921503, 1773520236, 1879426413, 1742587247, 1815692659, 1773520250, 1742587261, 1879426430, 1832338819, 1733150083, 1742587275, 1773520271, 2142881174, 2103985561, 1741178267, 1873069474, 2121057722, 1873069501, 1977435594, 2103985621, 1879426519, 2142881245, 2108343780, 1733150184, 2142881258, 1832338945, 1873069576, 2103985678, 1879426574, 1815692822, 1873069594, 1742587421, 1741178402, 1895908905, 1873069613, 1791182387, 1895908923, 1815692863, 1759921744, 1832339028, 1733150295, 1759921753, 1815692895, 1977435747, 2142881381, 1815692916, 1873069691, 2142881417, 2121057957, 1762936485, 1937458857, 1879426743, 1759921850, 2142881472, 2121057985, 2121057994, 2121057995, 1742587600, 1937458910, 2142881505, 1733150435, 1815693037, 1879426818, 1815693061, 1879426823, 1937458956, 1832339217, 1879426836, 1762936598, 1815693082, 1937458995, 1873069875, 1873069913, 1879426908, 2121058141, 1762936684, 1762936690, 1759922038, 1832339343, 1937459090, 1895909272, 1742587800, 2142881698, 1832339362, 1791182765, 2142881716, 1895909306, 2121058243, 1873070023, 1742587852, 1873070032, 1742587872, 1832339428, 1759922166, 1895909387, 2121058323, 1873070108, 1879427109, 1762936879, 1895909427, 1733150773, 1733150777, 1832339518, 1879427135, 1832339520, 2142881863, 1879427144, 1815693384, 1778567243, 1832339533, 2121058386, 1791182937, 1778567258, 1791182946, 1873070189, 1762936948, 1778567285, 1762936955, 1895909504, 1762936965, 2091337880, 1879427231, 1873070250, 2091337907, 1733150904, 1832339643, 1762937020, 2142882003, 1909508307, 1733150963, 1879427324, 1860159746, 1759922440, 1733150985, 1860159757, 1762937112, 1879427358, 1860159784, 2142882095, 2091338035, 1759922484, 1778567482, 1832339772, 1733151038, 1879427401, 1873070413, 1778567507, 1873070420, 1762937192, 1832339818, 1860159882, 1977436554, 1759922576, 1762937252, 1759922601, 1860159923, 1832339894, 2121058744, 1860159931, 1733151166, 1879427520, 1909508545, 1832339923, 1879427556, 1879427565, 2121058799, 2121058800, 1909508606, 1832339967, 1778567691, 1860160022, 1762937375, 1873070627, 1909508654, 1762937405, 1826540099, 1860160069, 1809992265, 1734134363, 2142882430, 2142882434, 1826540163, 1733151366, 1733151374, 2091338396, 2091338406, 2091338414, 1860160174, 1860160176, 1826540210, 1909508786, 1733151415, 1909508794, 1909508826, 1860160245, 1827752706, 1873070852, 1762937610, 1778567953, 1909508883, 1762937623, 1909508894, 1762937651, 1860160313, 1826540348, 1734134598, 1860160337, 1826540371, 1909508967, 1809599336, 1778568050, 2091338613, 1778568058, 1860160380, 1826540439, 1830177695, 1734134696, 1734134699, 1809599417, 1827752891, 1778568126, 1832340415, 2091338689, 2091338691, 1826540487, 1778568142, 1733151696, 1826540503, 1909509100, 1809992684, 1778568181, 1809599478, 1860160501, 1778568187, 1826540541, 1909509123, 1832340490, 1809599503, 2091338772, 2091338773, 1734134808, 1860160563, 1734134850, 1778568278, 1909509214, 1860160608, 1830177892, 1909509223, 1809599592, 1734134892, 1826540715, 1856752814, 1778568375, 1734134972, 1826540752, 1826540766, 1848626417, 1827753204, 1848626426, 1826540818, 1827753242, 1734135072, 1909509409, 1778568486, 1734135078, 2091339049, 2091339050, 1878347056, 1860160827, 1848626495, 1734135109, 1860160837, 1860160845, 1860160872, 1809993078, 1878347131, 1860160894, 1860160906, 1832340878, 1734135184, 1856753041, 1809599903, 1734135202, 1830178215, 1860160936, 1856753068, 2091339188, 1848626619, 1860160969, 1856753102, 1827753424, 1848626651, 1734135264, 1830178275, 1809993188, 1860161000, 1826541034, 1830178290, 1770671604, 2091339269, 1809993234, 1734135321, 1778568741, 1856753192, 1734135339, 1826541100, 1809600049, 1909509682, 1827753542, 1809993309, 1830178397, 2091339360, 1778568811, 1909509744, 1809600123, 1826541182, 1830178435, 1770671749, 1827753611, 2091339404, 1809600140, 1848626829, 1809993363, 1878347420, 1860161233, 2091339477, 1827753702, 1734135530, 1826541295, 1830178552, 1878347518, 1860161289, 1848626957, 1909509917, 1734135589, 1827753766, 1809993512, 1878347561, 1770671915, 1826541369, 1878347580, 1731645245, 1860161351, 2083213135, 2091339600, 1909509970, 2083213146, 1826541409, 1766248302, 1778569077, 1856753525, 1830178679, 1770671992, 1731645313, 2091339652, 1778569099, 1827753871, 2083213219, 1809600419, 1856753577, 1734135734, 1770672054, 1830178754, 1827753925, 2091339724, 1830178767, 1826541525, 1830178778, 1778569181, 1770672094, 1878347744, 1826541540, 2083213284, 1856753641, 1778569195, 1878347759, 1826541558, 1809600507, 1860161531, 1973243902, 1734135820, 1766248470, 1878347803, 2083213342, 1848627234, 1884737571, 1778569251, 1766248489, 1848627243, 1827754067, 1830178907, 1766248542, 1848627295, 1973244004, 1766248550, 1856753767, 1830178925, 1734135932, 1809993860, 1856753798, 1809993868, 1734135956, 1848627360, 1736888488, 1736888491, 1766248622, 1973244081, 1827754163, 1770672316, 1909510333, 1878347968, 1770672320, 1731645634, 1830179011, 1734136009, 1809993929, 1731645650, 1973244120, 2083213539, 1827754211, 1731645672, 2083213545, 1973244138, 1736888555, 1973244144, 1827754227, 1878348020, 1973244150, 1778569469, 1770672395, 1827754251, 1736888589, 1848627470, 1770672396, 1731645713, 1809600795, 1878348063, 1826541864, 1856753961, 1863569707, 1884737837, 1826541870, 1809600819, 2083213622, 1884737854, 1731645759, 1884737857, 1973244228, 1848627528, 1827754314, 1809994060, 1884737868, 1734136147, 1830179155, 1848627542, 1827754342, 1848627558, 1831817585, 1973244295, 1856754058, 1837224331, 1837224332, 1809994125, 1736888719, 1863569807, 1826541970, 1863569811, 1831817623, 1856754078, 2080788894, 1973244322, 1884737954, 1766248871, 1973244329, 1827754418, 1848627642, 1731645891, 1878348228, 1973244358, 1884737995, 1830179276, 1973244379, 1770672604, 1822446045, 1731645920, 1973244385, 1766248935, 1818186219, 2080788976, 1731645937, 1809994232, 1973244411, 1856754177, 1856754180, 2080789007, 1878348304, 1770672659, 1830179349, 2080789015, 1832833562, 1822446109, 1856754214, 1766248999, 1831817771, 1884738099, 1863569973, 1736888888, 1766249019, 1973244479, 1832833622, 1832833623, 1884738136, 1831817817, 1736888922, 1832833625, 1863570007, 1822446173, 1731646053, 1831817846, 1837224569, 1837224570, 2083213953, 2080789123, 1856754311, 1973244554, 1856754318, 1878348431, 1973244561, 1766249109, 1973244567, 1809994399, 1832833698, 1830179494, 1818186409, 1736889003, 2083213995, 1736889021, 1884738243, 2119586511, 1856754391, 1831817948, 1766249202, 2143015666, 1831817975, 1848627965, 1878348542, 1848627966, 1837224701, 1863570182, 1822446352, 1731646236, 2083214110, 1863570207, 1856754466, 1766249260, 1973244719, 1884738358, 2080789308, 1736889149, 1818186572, 1863570259, 2119586645, 2083214166, 1848628056, 1831818076, 1837224796, 1848628063, 1884738403, 1856754534, 2143015785, 1818186603, 1856754547, 1818186614, 1848628090, 1766249341, 1973244800, 1766249346, 1766249348, 2083214214, 1736889222, 1884738442, 1766249356, 1736889229, 1818186641, 1831818131, 1973244831, 1770673059, 2080789412, 1832833965, 2119586740, 1770673076, 1878348727, 1848628154, 1848628177, 1856754653, 1878348769, 1973244900, 1832834022, 1973244903, 1837224943, 1832834034, 1832834035, 1773720581, 1973244935, 2083214355, 1822446619, 1832834077, 2083214365, 1884738590, 2119586848, 2080789536, 1773720621, 1770673199, 1884738608, 1878348854, 1848628282, 1731646526, 1766249539, 2080789579, 1773720653, 1837225042, 2143016019, 1766249561, 1863570524, 1770673247, 1770673248, 2143016040, 1884738680, 1878348927, 2080789637, 1884738703, 2119586964, 1884738711, 2083214489, 1822446757, 1831818407, 1832834230, 1863570619, 2080789697, 2080789698, 1884738755, 1878349003, 2088096972, 1818186963, 1832834263, 2080789731, 1863570661, 2088097002, 1831818474, 1884738795, 2080789747, 2088097012, 1848628479, 1822446853, 1766249734, 1736889609, 1832834322, 1832834342, 1773720876, 1831818540, 1831818543, 2143016240, 1837225265, 2088097073, 2080789816, 2080789818, 2088097085, 1773720897, 1831818562, 1731646803, 2083214675, 1731646810, 2119587171, 1766249828, 2143016299, 1731646827, 1973245293, 1848628594, 1818187125, 1831818614, 1766249849, 1871238531, 2143016325, 1884738950, 1731646861, 1848628621, 1822446994, 1818187157, 1822446998, 1878349215, 1871238560, 1863570849, 1837225381, 1773720998, 1773721001, 1973245361, 1773721014, 2143016378, 1822447039, 1837225415, 1736889803, 1973245393, 1773721045, 1837225450, 1884739055, 1832834547, 1736889846, 1832834558, 1863570944, 1822447113, 1863570961, 1773721110, 2119587351, 1884739102, 1973245470, 1822447134, 1863570985, 1731647020, 1736889905, 1837225526, 1973245494, 1731647040, 1736889923, 2083214917, 2083214926, 1831818840, 1773721181, 1837225575, 1822447209, 2080790128, 1773721201, 1822447219, 2083214966, 1973245561, 1731647103, 2083214979, 1731647114, 2088097419, 1723553422, 1773721231, 2083214999, 2083215003, 1818187421, 1736890014, 1973245597, 1973245606, 1723553457, 1731647155, 1818187461, 1863571142, 2083215053, 2143016658, 1723553512, 2119587562, 1831818994, 1731647235, 1723553550, 1723553554, 2080790296, 1832834841, 1863571226, 1863571225, 1723553563, 2143016736, 1723553582, 1837225777, 2083215165, 2088097601, 1818187592, 1822447434, 1831819083, 1822447440, 2143016788, 1723553627, 2080790366, 1736890208, 1731647333, 2119587698, 1818187661, 1831819154, 1723553685, 2119587734, 1863571353, 2119587738, 2143016869, 1831819174, 1773721520, 2143016880, 1822447539, 1773721523, 1871239112, 1818187736, 2119587816, 1818187759, 1736890358, 1837225987, 1818187780, 2088097797, 1723553799, 1871239176, 1723553808, 2088097815, 2119587865, 1795643418, 2143017010, 1736890419, 1723553845, 2119587904, 2119587906, 2143017041, 2143017052, 1832835167, 1868879970, 1832835184, 2143017074, 1837226123, 1736890515, 1795643545, 1837226138, 2080790681, 1773721758, 1822447779, 1723553959, 1795643562, 1736890540, 1837226158, 1868880050, 2119588019, 2143017146, 2080790715, 1773721790, 1837226181, 1736890568, 1868880072, 1837226184, 1871239371, 1773721806, 2088098015, 1818188006, 1868880109, 1871239408, 2088098033, 1723554039, 1723554041, 2088098043, 1832835324, 1723554044, 1723554053, 1795643662, 1822447888, 2119588114, 1837226267, 1837226277, 1832835368, 2088098104, 2119588154, 1832835389, 1871239493, 1770707269, 1837226315, 1871239503, 1832835412, 1832835415, 1770707287, 1832835417, 1773721958, 1770707312, 2143017333, 1818188153, 2119588223, 2119588226, 1818188166, 1795643783, 1837226378, 2143017361, 1747540370, 2088098198, 1723554204, 1832835512, 1795643856, 2143017442, 2143017446, 1773722092, 2088098290, 2143017458, 2143017469, 1770707462, 1723554312, 1795643921, 1773722140, 1795643936, 1832835624, 2088098365, 1723554373, 1770707531, 1866521165, 1868880478, 1832835678, 1866521186, 1723554424, 1773722240, 1795644043, 1723554447, 1866521235, 1871239832, 1795644057, 1866521245, 2088098465, 1773722284, 2143017646, 1747540656, 1972296376, 1868880570, 1773722305, 2143017682, 1972296409, 2126764765, 1866521328, 2126764801, 2088098572, 1747540753, 1747540761, 1868880674, 1976589094, 1972296497, 1871239994, 1868880716, 1972296537, 1866521435, 1795644255, 1773722470, 1795644266, 1773722478, 1871240049, 1770707826, 1770707827, 1747540870, 1871240078, 1871240103, 1972296619, 2088098733, 1772936111, 1871240111, 1972296625, 1871240113, 1770707895, 1972296638, 1871240136, 1866521546, 2126765009, 1747540985, 1723554811, 1866521609, 1972296725, 2126765080, 1723554845, 1772936223, 1868880929, 1871240239, 1720900656, 2102877239, 1723554871, 1972296764, 1747541053, 1723554878, 1976589381, 1747541065, 2102877266, 2102877274, 1972296797, 1868880989, 1871240299, 1976589424, 1720900722, 1868881013, 1747541137, 1723554962, 2102877332, 1747541142, 1772936345, 1972296861, 1976589470, 1972296868, 1976589477, 1976589478, 1747541161, 2126765227, 1868881073, 1747541173, 2010143932, 1866521792, 1866521797, 1747541191, 1972296906, 2126765259, 1972296941, 2010143986, 1747541235, 1868881151, 1772936447, 2126765320, 2010144019, 1770708245, 1772936473, 1770708249, 1868881181, 1723555101, 1770708257, 1866521890, 1795644705, 2126765347, 1772936486, 1770708265, 1723555121, 1720900918, 2102877504, 2102877516, 1747541326, 1884577116, 1723555180, 1772936559, 1884577144, 1723555199, 1767071116, 1886313871, 1767071121, 1884577171, 1868881303, 1747541401, 1972297124, 1795644848, 1795644851, 1770708403, 1767071155, 1720901058, 1747541445, 1770708429, 1884577234, 2102877665, 2010144225, 1720901091, 1866522099, 1866522102, 1767071224, 1720901113, 1747541502, 1772936720, 1976589849, 2102877731, 1767071297, 1720901185, 1866522180, 1976589900, 1866522188, 2102877787, 2102877791, 2102877792, 1767071330, 1886314087, 2010144366, 1884577401, 1976589947, 1772936829, 1720901249, 1770708615, 1795645070, 1884577426, 1976589978, 1747541659, 1972297375, 1767071394, 2010144425, 1976589993, 2102877877, 1772936899, 1976590022, 2010144463, 1866522322, 1772936927, 1767071457, 2102877922, 2102877930, 1795645177, 1972297467, 1772936956, 1772936962, 1747541767, 1874452238, 1767071504, 1972297496, 1868881689, 1884577573, 1976590120, 1972297512, 1747541808, 1886314290, 2102878012, 1772937027, 1866522440, 1747541836, 2010144588, 1747541840, 2126765905, 1874452304, 1972297563, 1808260956, 1866522461, 1789812572, 2089508705, 2102878053, 2102878066, 1972297588, 1767071610, 2126765950, 2010144646, 1747541900, 1795645324, 1868881811, 1866522515, 1808261020, 1789812641, 1747541928, 1874452393, 1866522543, 2126766012, 1720901564, 1770708930, 1747541957, 1747541969, 1972297683, 1770708952, 1808261090, 1767071715, 2126766063, 1747542000, 1972297713, 2010144761, 1976590331, 1789812738, 1976590339, 1972297734, 2089508872, 1884577802, 2102878230, 1747542041, 1972297759, 1770709024, 1767071780, 2102878250, 1972297774, 1720901678, 1770709042, 2102878268, 1886314557, 1976590401, 1772937289, 2126766158, 1972297814, 1720901724, 2010144877, 2010144880, 1720901745, 1747542137, 1770709122, 1972297866, 2126766220, 1720901777, 2102878356, 1772937368, 1747542173, 2091573416, 1976590509, 1972297902, 2102878389, 2126766264, 2010144958, 1972297920, 2010144964, 1874452678, 1972297927, 2089509071, 1770709201, 1720901852, 2097701088, 2097701095, 2091573480, 1866522856, 2091573482, 1866522863, 1808261359, 1886314738, 1866522867, 1972297990, 1767072016, 1747542295, 1866522905, 2089509159, 2091573543, 2126766377, 1884578105, 2091573566, 2010145088, 1866522944, 2114314581, 1976590677, 1767072087, 1767072090, 2091573598, 2097701232, 1874452851, 1789813114, 1767072129, 2091573645, 1886314904, 1789813149, 1874452894, 1866523041, 1772937638, 1886314931, 2114314682, 2010145219, 1789813191, 1789813196, 1808261585, 2091573722, 1918099932, 1884578272, 1976590821, 1808261606, 1884578280, 1789813227, 2097701369, 1720902148, 2089509386, 1918099987, 1789813273, 1972298276, 1886315054, 1772937777, 1772937783, 2010145341, 1976590913, 2091573831, 2114314829, 2114314830, 1884578394, 2114314842, 1734632051, 1720967797, 1808261752, 1734632062, 1789944452, 1767072388, 2114314886, 1767072390, 2105074308, 1772937865, 1720967813, 1789944460, 1767072399, 2091573909, 2114314902, 1734632085, 2091573917, 1788469918, 1884578462, 1874453155, 2089509544, 2091573932, 2105074354, 1874453173, 1976591030, 2089509565, 1884578498, 2114314950, 2105074375, 2091573968, 2089509585, 1884578518, 2091573976, 2105074407, 2091573996, 1789813486, 2105074424, 2097701626, 1720967931, 1918100225, 1772937989, 1918100230, 2091574022, 2114315021, 1770382094, 1788470030, 1767072546, 2114315055, 1767072563, 2091574080, 1874453317, 2010145606, 1886315334, 1767072596, 1770382168, 1720968044, 2114315119, 1720968053, 2010145656, 1770382206, 1734632327, 2105074590, 1789813663, 1859019680, 1789944737, 1886315427, 2091574179, 1886315432, 1720968105, 1789813677, 2105074606, 2105074619, 1720968129, 2114315208, 1789944782, 1767072719, 1886315471, 2097701845, 1918100439, 2091574232, 2091574237, 2105074657, 1789944803, 1789944825, 1886315514, 1835295745, 1789944836, 1789813769, 2105074699, 1789813777, 1859019793, 2091574306, 1835295796, 1874453574, 1874453575, 1789944914, 2105074773, 1918100565, 1789944925, 1876943966, 1876943968, 1789944931, 1886315620, 1874453608, 1770382441, 2091574390, 1874453623, 1859019896, 1867211896, 1859019901, 1734632577, 1808262273, 1835295891, 2089510036, 2089510037, 1789944984, 1859019931, 1886315678, 1770382496, 1835295905, 1867211948, 1876944045, 1770382522, 1734632643, 2089510087, 1859019978, 1789945045, 1867211997, 1789945054, 1835295973, 2091574502, 1770382569, 2091574508, 1808262381, 2105074927, 1918100720, 1918100729, 1720968449, 1935500547, 1935500548, 1935500549, 2089510154, 1867212049, 1876944147, 2097702164, 1788470547, 2089510169, 1789814042, 1770382620, 1835296029, 1867212065, 1859020065, 1734632741, 1789814053, 1808262442, 1859020077, 1935500603, 2114315580, 1918100810, 2097702224, 1808262496, 2091574632, 1808262508, 1808262512, 1789945225, 1867212186, 1867212191, 1918100896, 2105075104, 1808262571, 2091574708, 1876944310, 1876944312, 1770382779, 1720968636, 2089510334, 1835296194, 2105075142, 2091574728, 1770382793, 1770382806, 1859020251, 1876944357, 2105075194, 1720968700, 1789814272, 1859020294, 1720968712, 1881925129, 1789814282, 1881925133, 1918101007, 1881925142, 1881925144, 1734632988, 1874454047, 1788470821, 1881925160, 1867212329, 1734633002, 2089510445, 1918101038, 1918101039, 1859020335, 1835296302, 2089510454, 1876944439, 1881925176, 1859020347, 1918101052, 1788470844, 1734633022, 1789814335, 1918101062, 2091574860, 1835296333, 1918101074, 1734633045, 1935500894, 1734633065, 1789814378, 1789814379, 1867212401, 1789945458, 1789814390, 1720968823, 1835296380, 2091574910, 1789945472, 1835296385, 1788470913, 2089510529, 2114315908, 1867212421, 1734633089, 1859020431, 1859020432, 2114315923, 1720968853, 2114315927, 1734633128, 1876944559, 1733519027, 2091574970, 1867212478, 1789814478, 1789814482, 1733519068, 1867212522, 1733519083, 2114316010, 1770383082, 1733519086, 1881925360, 1788471026, 1788471029, 1859020534, 1734633207, 1720968953, 1859020541, 1859020542, 2091575046, 1733519111, 1859020555, 2105075469, 1918101262, 1867212567, 1956177703, 1720969012, 1859020604, 1876944706, 1733519182, 1835296592, 1867212636, 1783687030, 1789945722, 1783687040, 1918101378, 1770383237, 1867212678, 1789945735, 2091575179, 1935501199, 1876944790, 1881925529, 1734633380, 2105075629, 2105075636, 2105075639, 1867212732, 1733519296, 2097702856, 1867212748, 1770383315, 1867212758, 1734633431, 1788471257, 1783687132, 2137319391, 1789945825, 1876944867, 1770383332, 1788471271, 1783687143, 1859020781, 1859020787, 1867212788, 1859020790, 1918101497, 1733519362, 2105075717, 1734633485, 2097702927, 1791617042, 1835296788, 1733519381, 1783687191, 2105075736, 1859020826, 1720969243, 1770383391, 2105075747, 1859020843, 1791617076, 1876944950, 2091575355, 1733519420, 1770383425, 2135058503, 1876944972, 1791617108, 1867212888, 2135058521, 1720969310, 2137319519, 1835296866, 1881925732, 1935501421, 1935501426, 1789945981, 1956178067, 1867212950, 1788471462, 2135058601, 1789946034, 2105075893, 1733519543, 1877371073, 1835296963, 1867212996, 1881925829, 1788471500, 1733519569, 1877371091, 1788471519, 1877371108, 1789946088, 1791617257, 1770383602, 1733519604, 1877371131, 1881925886, 1783687424, 1789946131, 1867213075, 2137319699, 1835297047, 1733519649, 1859021095, 1788471596, 1876945201, 1859021110, 1720969541, 1734633805, 1783687505, 1859021158, 1956178278, 1720969577, 1788471658, 1770383724, 2105076081, 1783687551, 1876945286, 1733519751, 1876945292, 1720969616, 1770383760, 1877371283, 1982622106, 2135058848, 1733519784, 1961650605, 1783687600, 2137319860, 1733519798, 1877010870, 1791617480, 1956178385, 1788471766, 1935501787, 1733519841, 2137319906, 1982622179, 2108254692, 1935501800, 1733519851, 2135058928, 1982622196, 1935501817, 1881926138, 1783687675, 1935501824, 1876945428, 1877010970, 1876945435, 1876945437, 1733519911, 1877010990, 1982622261, 1835297341, 1956178505, 1791617615, 1783687760, 1770842707, 1982622293, 1877011033, 1791617645, 2135059059, 1877011077, 1876945545, 1743612554, 2108254863, 1835297424, 1876945560, 1876945562, 1956178594, 1733520040, 1881926325, 1835297463, 1867115194, 2108254911, 1733520066, 1868917443, 1791617733, 1733520070, 1835297478, 1859021517, 1956178646, 1835297505, 1877011172, 1877371625, 1783687914, 1791617775, 2121034492, 1835297539, 1859021572, 1935502090, 1733520141, 1791617806, 1877011226, 1956178715, 1783687964, 2121034526, 2121034530, 2135059255, 1733520188, 1961651008, 1868917573, 1877011270, 1835297611, 1859021646, 1733520207, 1961651025, 1770842962, 1733520211, 1881926483, 2121034580, 1961651044, 2137320293, 1877011307, 1877011309, 1881926528, 1743612812, 2137320332, 2121034644, 2121034646, 1877371824, 1733520313, 1935502266, 2137320380, 1881926591, 1806298048, 1867115457, 1877011394, 2135059412, 1877011421, 1956178910, 2137320417, 1877371878, 1770843111, 1806298105, 1743612923, 1982622719, 2135059455, 2108255241, 1733520401, 2135059474, 1881926682, 1733520427, 1783688239, 1868917807, 1791618101, 2121034806, 1956179000, 1961651256, 1877371960, 1877011519, 2135059523, 2121034837, 2107468888, 2108255321, 1982622825, 1791618153, 1982622827, 1733520492, 2137320558, 1733520502, 1733520504, 1881926786, 1791618179, 1770843273, 2108255369, 1867115659, 2108255376, 1982622864, 2108255387, 1868917927, 1806298283, 1877011644, 2137320642, 1877011664, 1877372118, 2107469016, 2121034969, 1791618273, 2137320674, 1806298344, 2107469035, 1877011692, 1783688432, 2108255475, 1956179197, 1867115791, 1868918036, 1982623004, 2121035040, 1867115811, 1850338599, 1877372203, 1806298414, 1961651505, 1850338614, 1783688512, 2121035074, 1961651527, 2107469132, 2108255571, 1867115863, 2135059803, 1877011807, 1834872164, 1743613302, 1850338678, 2137320827, 2121035145, 1850338712, 1877011868, 2135059873, 1733520806, 1982623147, 2107469233, 1743613365, 1982623164, 1877011903, 1877011908, 1877372361, 1743613385, 1868918225, 1877011922, 1791618514, 1791618516, 1868623322, 1961651679, 1834872298, 1850338795, 2135059948, 1791618541, 2107469294, 1733520889, 1791618556, 1806298624, 1868918273, 1868918291, 1877372437, 1868623387, 1770843679, 1850338849, 1806298657, 1850338852, 2137321011, 1850338875, 1982623300, 1982623301, 1867116100, 1868623436, 1733520974, 1877372502, 1867116125, 1961651813, 1850338926, 1961651833, 1898278524, 2107469438, 1867116160, 1867116174, 2121035410, 1877372576, 1898278567, 1877012140, 1877372590, 2105700017, 1850338993, 1791618738, 1834872502, 2135060153, 2041802428, 1850339005, 2041802431, 2121035459, 2121035461, 1770843846, 1791618759, 1834872520, 1877012165, 1877372623, 1961651924, 1869672149, 2135060187, 2098589405, 2121035488, 1869672174, 1850339059, 1791618807, 1868623611, 1867116284, 2105700095, 1743613700, 1850339080, 2107469576, 2135060249, 2108256027, 2041802524, 1834872606, 1961652001, 1877372707, 1743613731, 1770843940, 2107469607, 2105700136, 2080403241, 1982623531, 1868623663, 2041802549, 1877012306, 1982623571, 2041802581, 1869672280, 1743613787, 1868918619, 1869672285, 2121035612, 2080403296, 1868623713, 1850339173, 2080403306, 1770844010, 1869672307, 2041802614, 1877372790, 2098589564, 1877372800, 1877372805, 1867116422, 1770844044, 2105700249, 1982623646, 1743613857, 1961652135, 2121035687, 2080403373, 1898278838, 1982623671, 2107469769, 1877372874, 1982623693, 1834872783, 2135060439, 1834872791, 2121035738, 1770844126, 2108256230, 1850339303, 1806299116, 1868918772, 1867116535, 1725460473, 1898278911, 2108256259, 1961652229, 1770844171, 1982623757, 1982623764, 2108256281, 2107469857, 1806299182, 2098589751, 2121035836, 1770844222, 1868918846, 1770844226, 1850339396, 2041802824, 1834872904, 1961652302, 1760587857, 1725460580, 2105700464, 1867116658, 1898279033, 2108256377, 1881960571, 1850339458, 2098589827, 1867116680, 1868624011, 1770844299, 2107469963, 2107469965, 1770844304, 1770844307, 1867116695, 1760587928, 1869672604, 1867116703, 2098589860, 1961652388, 2121035944, 1869672626, 2105700539, 1850339517, 2105700560, 1850339542, 1898279129, 1806299354, 2121035993, 2098589917, 1834873054, 2041802976, 2041802980, 1743614182, 1881960688, 1868624114, 1982623989, 1834873079, 2041803003, 1982623997, 1810297088, 1867116803, 1869672708, 2098589957, 2041803015, 2105700618, 1806299404, 2107470095, 1868624144, 1760588049, 1834873111, 2107470105, 2105700634, 2080403739, 2080403753, 1810297134, 1868624178, 2041803061, 1867116855, 1868624183, 1867116860, 2080403788, 1867116877, 2105700684, 1982624078, 1850339672, 1806299490, 1850339683, 1743614316, 1917022572, 2041803119, 1868919154, 2121036147, 1834873208, 1917022590, 1806299521, 1770844547, 1868624266, 2107470222, 2098590095, 1868624271, 2107470230, 2098590103, 1850339736, 2142990746, 1917022629, 1760588205, 1725460921, 1898279356, 1881960898, 1834873284, 1868919239, 1725460953, 1743614439, 1725460971, 2107470315, 1898279405, 1810297330, 1760588277, 2098590205, 1810297353, 2107470361, 1760588317, 1868919331, 1917022757, 1869672998, 2142990890, 1806299696, 2098590260, 1830580793, 1917022781, 1917022785, 1806299715, 1830580804, 1760588357, 1881961030, 1806299728, 1869673043, 1743614562, 1725461102, 1917022830, 1770844784, 1881961080, 1898279545, 1917022844, 1760588413, 2105700995, 1830580872, 1806299790, 1725461148, 1917022877, 1881961124, 1743614633, 2080404140, 1881961134, 1917022905, 1868624573, 1898279613, 1850340030, 1917022912, 1806299843, 1917022916, 2080404165, 1868624583, 1810297554, 1806299867, 1869673184, 1917022944, 1850340064, 1869673189, 1869673190, 1725461225, 1881961195, 1869673201, 2115957492, 1898279669, 1881961208, 1881961212, 1881961216, 1810297605, 1725461262, 2098590487, 1868624664, 2041803545, 1725461287, 1725461294, 1834873652, 2105701173, 1760588597, 2105701175, 1830581049, 1869673273, 1830581053, 2107470659, 1881961283, 1830581062, 1850340170, 2041803600, 1868624740, 2142991205, 1839723381, 1839723387, 1898279807, 1725461382, 1724478390, 1898279864, 1724478396, 1881961416, 1839723474, 1760588766, 1850340320, 2105701347, 1850340326, 2133980140, 1869673453, 1868624879, 1724478449, 1898279925, 1917023228, 2133980157, 2115957756, 1810297861, 1869673482, 1724478477, 2080404512, 1810297889, 1724478498, 1881961506, 1839723556, 1724478501, 2098590754, 2080404518, 1881961514, 2098590770, 2080404530, 1833399350, 1868624963, 1760588882, 1830581349, 1898280038, 1868625004, 1830581361, 1850340478, 1839723646, 1850340480, 2080404606, 1917023365, 1898280070, 2041803927, 1869673624, 1917023392, 1774744743, 1830581416, 1810298025, 1830581428, 1834874044, 1881961660, 2080404676, 2097509576, 2041803979, 1833399502, 1760589006, 1725461712, 1917023441, 2098590928, 1881961685, 2115957975, 2133980375, 1830581466, 1724478695, 2105701623, 2115958009, 1881961728, 2041804034, 1869673730, 2142991620, 2133980422, 1881961737, 1881961738, 2041804042, 1810298134, 1830581527, 1760589079, 1834874134, 1839723802, 1839723805, 2097509663, 1760589090, 2080404776, 2080404782, 1724478767, 2142991666, 2115958070, 2097509688, 1839723837, 2105701695, 1898280261, 1869673800, 1881961806, 1774744917, 2105701721, 2098591070, 1725461864, 2142991734, 1724478839, 1869673848, 1725461882, 2142991745, 2133980553, 1856238986, 1868952983, 1898280345, 1898280354, 1725461927, 1881961901, 1881961902, 2098591153, 2142991794, 2098591159, 1774745025, 1885894091, 1760589259, 1830581713, 1760589266, 1833399781, 1898280421, 1725461996, 1856239088, 1839724016, 1917023736, 1839724025, 1774745093, 1810298378, 2133980688, 1810298385, 1852274209, 2133980713, 1856239160, 1881962045, 1868953150, 1833399870, 1724479041, 1774745154, 1856239171, 1830581848, 2133980763, 2133980764, 1830581856, 1810298469, 1774745191, 1917023851, 2115958382, 2115958385, 1833399927, 2115958425, 2133980832, 1724479136, 1878455971, 1852274360, 2115958470, 1724479181, 1774745297, 1760589522, 1724479187, 1833400022, 1760589528, 2115958490, 1852274400, 1830581990, 2142992119, 1856239367, 1852274444, 2115958564, 1885894440, 1830582074, 2115958587, 1852274501, 2133981001, 2115958605, 1839724373, 2142992219, 1830582118, 2097510255, 1810298736, 1810298743, 1878456183, 2133981049, 1917024119, 1868953467, 1724479371, 2115958668, 2142992273, 2133981078, 1830582167, 2142992280, 1760589724, 1885894568, 1833400247, 1833400253, 2097510334, 1760589761, 1856239562, 2133981142, 1885894616, 1724479449, 1774745563, 2142992356, 2115958770, 2115958774, 1917024250, 1852274695, 1868953626, 1724479515, 2142992413, 1839724575, 1839724577, 2005596198, 1839724583, 1833400360, 1856239674, 1774745660, 1839724607, 2133981258, 2097510488, 2142992474, 1856239709, 1830582366, 2005596258, 1839724646, 2097510509, 1830582386, 1833400441, 1833400445, 2142992519, 1917024397, 1868953749, 1868953750, 1830582436, 1774745767, 1856239796, 1724479673, 2133981372, 2133981373, 2097510596, 1852274891, 2142992588, 1868953809, 1852274902, 1852274910, 2115959009, 1774745827, 2115959013, 2005596390, 1852274934, 1885894906, 1724479743, 1885894912, 1878456577, 1839724802, 2097510660, 2115959045, 2142992644, 1868953873, 2093873435, 1774745891, 1885894953, 1724479795, 1868953909, 2005596471, 1856239932, 2133981505, 2115959111, 2097510737, 1833400668, 1856239964, 1830582626, 2097510774, 1885895049, 2097510799, 2093873560, 1830582683, 1774746013, 2115959203, 2005596580, 1724479918, 1878456751, 1774746038, 1856240059, 1774746049, 1833400774, 2005596615, 1878456777, 1856240073, 2093873622, 1856240092, 1852275167, 1868954083, 1724479974, 1878456826, 1878456834, 1852275205, 1856240134, 1774746124, 1830582803, 1774746133, 2115959322, 1856240166, 1878456871, 1868462652, 2093873724, 1724480061, 1819114049, 1868462666, 1810758249, 2115959421, 1856240254, 1774746243, 1724480134, 1885895304, 2093873801, 1885895313, 2093873813, 1819114140, 1774746282, 1819114156, 1839725232, 1852275377, 1852275382, 1839725247, 1885895373, 2005596885, 2005596894, 1852275435, 1868954350, 2093873907, 1885895414, 1833401079, 1868954361, 1819114240, 2133981963, 2133981969, 1852275473, 1868462873, 1868462884, 1868462886, 1810758445, 1833401134, 1810758456, 2005596989, 2093873986, 1878457168, 2133982042, 1774746460, 1833401180, 1868954466, 1833401197, 1819114351, 2097511284, 1852275575, 1774746491, 1878457217, 1774746498, 1868954500, 1868462981, 1878457220, 1810758545, 1856240534, 1852275617, 1774746535, 1885895596, 2133982138, 1868954554, 2093874110, 2005597135, 1810758610, 2005597146, 1868463082, 2090597363, 2090597369, 1856240638, 1819114504, 1856240656, 1885895701, 1819114519, 1777957921, 1744272423, 1810758701, 2090597434, 1744272454, 1819114566, 1868463177, 1868954701, 2005597264, 1878457440, 1724480611, 1852275818, 1856240760, 2005597307, 1856240765, 1724480641, 1819114629, 2093874310, 2093874311, 1868954761, 1724480653, 2093874320, 1724480656, 1835170965, 1868954792, 1777958057, 1819114666, 2005597352, 2005597356, 1810758833, 1868463283, 2005597365, 1878457531, 1852275903, 1835171012, 2093874381, 2005597401, 1724480737, 1777958113, 1835171060, 1852275963, 1868463362, 2090597635, 2005597443, 1819114756, 1852275986, 2005597462, 1797029147, 2093874467, 1868463400, 2100198714, 1819114814, 1835171145, 2005597526, 1742404953, 1742404955, 2093874529, 1797029217, 1835171178, 1744272753, 1835171186, 1868463479, 1777958265, 2093874553, 1777958284, 2100198800, 1819114896, 1835171229, 1819114916, 1797029290, 1835171246, 1742405044, 2093874631, 1835171271, 2093874637, 1785888225, 2005597673, 2093874669, 1835171310, 2100198901, 2005597693, 2090597887, 1868463622, 1819115021, 1777958429, 1835171363, 2100198949, 1868463656, 1742405166, 1785888307, 1777958452, 2130902586, 1742405183, 2090597959, 1785888333, 2130902610, 1777958486, 2090597986, 2090598001, 1724481140, 2100199029, 1742405240, 2005597818, 1797029513, 1819115146, 1744273043, 1777958549, 1797029533, 2093874851, 1835171496, 2093874860, 1777958578, 1777958579, 2130902715, 1742405314, 1797029576, 2100199115, 2005597906, 1724481246, 2130902758, 2100199147, 1797029626, 2100199165, 1835171599, 1785888528, 1777958679, 1724481303, 1797029657, 1835171623, 1777958697, 1785888559, 2005598008, 1835171640, 1724481344, 1835171651, 1785888580, 1868463941, 2090598217, 1810759502, 1819115362, 1810759526, 1835171688, 2130902896, 2090598257, 1777958780, 1742405505, 1744273281, 1819115393, 2100199316, 1777958810, 1724481439, 1785888711, 1777958860, 1785888718, 1797029847, 1874329565, 2130903005, 1777958880, 2100199400, 1835171822, 1785888758, 1777958908}\n",
      "Number of selected clips: 6231\n"
     ]
    }
   ],
   "source": [
    "# Shuffle the rows of the DataFrame\n",
    "df_shuffled = df_pass.sample(frac=1).reset_index(drop=True)\n",
    "\n",
    "# Define primary type and attribute sets as tuples\n",
    "# Define primary type and attribute sets as tuples\n",
    "primary_type = 'pass'\n",
    "attribute_sets = [\n",
    "    ('forward_pass', 'back_pass', 'lateral_pass'),\n",
    "    ('head_pass', 'hand_pass', 'normal_pass'),\n",
    "    ('long_pass', 'short_or_medium_pass'),\n",
    "    ('smart_pass', 'key_pass', 'progressive_pass', 'normal_pass'),\n",
    "    ('deep_completion', 'pass_to_final_third', 'pass_to_penalty_area'),\n",
    "    ('accurate', 'not_accurate')\n",
    "]\n",
    "\n",
    "# Select minimum clips to cover all classifications\n",
    "selected_clips = select_minimum_clips(df_shuffled, primary_type, attribute_sets)\n",
    "print(f\"Selected clip IDs: {selected_clips}\")\n",
    "print(f\"Number of selected clips: {len(selected_clips)}\")"
   ]
  },
  {
   "cell_type": "code",
   "execution_count": 174,
   "metadata": {},
   "outputs": [],
   "source": [
    "df_selected_clips = df_shuffled[df_shuffled['event_id'].isin(selected_clips)].reset_index(drop=True)\n"
   ]
  },
  {
   "cell_type": "code",
   "execution_count": 175,
   "metadata": {},
   "outputs": [],
   "source": [
    "df_selected_clips.to_csv('D:\\\\GITHUB\\\\Data_CEP\\\\Exploration\\\\selected_clips_pass.csv', index=False)"
   ]
  },
  {
   "cell_type": "code",
   "execution_count": 177,
   "metadata": {},
   "outputs": [
    {
     "name": "stdout",
     "output_type": "stream",
     "text": [
      "2492\n",
      "818\n",
      "2921\n",
      "255\n",
      "39\n",
      "5937\n",
      "896\n",
      "5335\n",
      "102\n",
      "55\n",
      "1359\n",
      "5937\n",
      "275\n",
      "1446\n",
      "407\n",
      "5252\n",
      "979\n"
     ]
    }
   ],
   "source": [
    "list = ['forward_pass', 'back_pass', 'lateral_pass', 'head_pass', 'hand_pass', 'normal_pass','long_pass', 'short_or_medium_pass','smart_pass', 'key_pass', 'progressive_pass', 'normal_pass', 'deep_completion', 'pass_to_final_third', 'pass_to_penalty_area', 'accurate', 'not_accurate']\n",
    "for att in list:\n",
    "    print(len(df_selected_clips[df_selected_clips[att] ==1]))"
   ]
  }
 ],
 "metadata": {
  "kernelspec": {
   "display_name": "base",
   "language": "python",
   "name": "python3"
  },
  "language_info": {
   "codemirror_mode": {
    "name": "ipython",
    "version": 3
   },
   "file_extension": ".py",
   "mimetype": "text/x-python",
   "name": "python",
   "nbconvert_exporter": "python",
   "pygments_lexer": "ipython3",
   "version": "3.11.5"
  }
 },
 "nbformat": 4,
 "nbformat_minor": 2
}
