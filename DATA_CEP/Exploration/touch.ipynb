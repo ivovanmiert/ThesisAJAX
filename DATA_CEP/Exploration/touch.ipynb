{
 "cells": [
  {
   "cell_type": "code",
   "execution_count": 1,
   "metadata": {},
   "outputs": [],
   "source": [
    "import os\n",
    "import ffmpeg\n",
    "from datetime import timedelta\n",
    "import yaml\n",
    "import pandas as pd\n",
    "import numpy as np\n",
    "from itertools import combinations\n",
    "from itertools import product"
   ]
  },
  {
   "cell_type": "code",
   "execution_count": 2,
   "metadata": {},
   "outputs": [],
   "source": [
    "df = pd.read_csv('D:\\\\GITHUB\\\\Data_CEP\\\\Exploration\\\\dataframe_expanded.csv')"
   ]
  },
  {
   "cell_type": "code",
   "execution_count": 3,
   "metadata": {},
   "outputs": [],
   "source": [
    "df_touch = df[df['primary_type'] == 'touch']"
   ]
  },
  {
   "cell_type": "code",
   "execution_count": 4,
   "metadata": {},
   "outputs": [
    {
     "name": "stdout",
     "output_type": "stream",
     "text": [
      "carry                                     19694\n",
      "progressive_run, carry                     5876\n",
      "loss                                       3079\n",
      "touch_in_box                                558\n",
      "loss, touch_in_box                          441\n",
      "carry, touch_in_box                         300\n",
      "carry, under_pressure                       245\n",
      "opportunity, touch_in_box                   132\n",
      "under_pressure                              127\n",
      "loss, opportunity, touch_in_box              99\n",
      "loss, under_pressure                         93\n",
      "loss, carry                                  92\n",
      "loss, progressive_run, carry                 19\n",
      "loss, carry, touch_in_box                    13\n",
      "progressive_run, carry, under_pressure       11\n",
      "loss, carry, under_pressure                   6\n",
      "second_assist                                 4\n",
      "opportunity, carry, touch_in_box              4\n",
      "opportunity                                   2\n",
      "third_assist, progressive_run, carry          2\n",
      "second_assist, touch_in_box                   1\n",
      "third_assist                                  1\n",
      "third_assist, under_pressure                  1\n",
      "loss, opportunity                             1\n",
      "assist, touch_in_box                          1\n",
      "Name: secondary_types, dtype: int64\n"
     ]
    }
   ],
   "source": [
    "print(df_touch['secondary_types'].value_counts())\n",
    "#Carry; loss\n",
    "#Carry --> progressive run or not"
   ]
  },
  {
   "cell_type": "code",
   "execution_count": 5,
   "metadata": {},
   "outputs": [],
   "source": [
    "condition1 = (df_touch['carry'] == 1)\n",
    "condition2 = (df_touch['loss'] == 1)\n",
    "condition3 = (df_touch['progressive_run'] == 1)\n",
    "\n",
    "# Willekeurig 2000 rijen selecteren voor elke voorwaarde\n",
    "sample1 = df_touch[condition1].sample(n=2000, random_state=1)\n",
    "sample2 = df_touch[condition2].sample(n=2000, random_state=1)\n",
    "sample3 = df_touch[condition3].sample(n=2000, random_state=1)\n",
    "\n",
    "# Combineer de gesamplede DataFrames\n",
    "df_combined = pd.concat([sample1, sample2, sample3], ignore_index=True)\n",
    "\n",
    "# Shuffle de gecombineerde DataFrame\n",
    "df_selected = df_combined.sample(frac=1, random_state=1)\n",
    "\n",
    "# Schrijf de geshufflede DataFrame naar een CSV-bestand\n",
    "df_selected.to_csv('D:\\\\GITHUB\\\\Data_CEP\\\\Exploration\\\\selected_clips_touch.csv', index=False)"
   ]
  }
 ],
 "metadata": {
  "kernelspec": {
   "display_name": "base",
   "language": "python",
   "name": "python3"
  },
  "language_info": {
   "codemirror_mode": {
    "name": "ipython",
    "version": 3
   },
   "file_extension": ".py",
   "mimetype": "text/x-python",
   "name": "python",
   "nbconvert_exporter": "python",
   "pygments_lexer": "ipython3",
   "version": "3.11.5"
  }
 },
 "nbformat": 4,
 "nbformat_minor": 2
}
