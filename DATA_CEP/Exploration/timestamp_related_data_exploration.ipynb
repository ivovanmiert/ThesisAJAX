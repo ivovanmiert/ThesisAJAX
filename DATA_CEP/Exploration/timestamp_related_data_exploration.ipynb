{
 "cells": [
  {
   "cell_type": "code",
   "execution_count": 1,
   "metadata": {},
   "outputs": [],
   "source": [
    "import pandas as pd\n",
    "import yaml\n",
    "import csv\n",
    "import numpy as np\n",
    "import cv2"
   ]
  },
  {
   "cell_type": "code",
   "execution_count": 2,
   "metadata": {},
   "outputs": [],
   "source": [
    "def load_config(config_path):\n",
    "    with open(config_path, 'r') as file:\n",
    "        config = yaml.safe_load(file)\n",
    "    return config\n",
    "\n",
    "config = load_config('config.yaml')"
   ]
  },
  {
   "cell_type": "code",
   "execution_count": 3,
   "metadata": {},
   "outputs": [],
   "source": [
    "csv_location = config['data_paths']['output_file_full_dataframe']\n",
    "df = pd.read_csv(csv_location)"
   ]
  },
  {
   "cell_type": "markdown",
   "metadata": {},
   "source": [
    "Behaviour of consecutive timestamps\n",
    "Loop through the dataframe and note the timestamps of the next and previous event, identify rows where match_id or match_period changes and give NA value for previous/next timestamps in those rows.\n"
   ]
  },
  {
   "cell_type": "code",
   "execution_count": 4,
   "metadata": {},
   "outputs": [],
   "source": [
    "df['video_timestamp'] = pd.to_numeric(df['video_timestamp'])\n",
    "df['next_type'] = df['primary_type'].shift(-1)\n",
    "df['next_timestamp'] = df['video_timestamp'].shift(-1)\n",
    "df['next_match_id'] = df['match_id'].shift(-1)\n",
    "df['next_match_period'] = df['match_period'].shift(-1)\n",
    "\n",
    "# Shift the 'primary_type', 'video_timestamp', 'match_id', and 'match_period' columns for previous row values\n",
    "df['prev_type'] = df['primary_type'].shift(1)\n",
    "df['prev_timestamp'] = df['video_timestamp'].shift(1)\n",
    "df['prev_match_id'] = df['match_id'].shift(1)\n",
    "df['prev_match_period'] = df['match_period'].shift(1)\n",
    "\n",
    "# Identify rows where match_id or match_period changes\n",
    "df.loc[(df['match_id'] != df['next_match_id']) | (df['match_period'] != df['next_match_period']), 'next_timestamp'] = pd.NA\n",
    "# Identify rows where match_id or match_period changes and set previous timestamp to NaN\n",
    "df.loc[(df['match_id'] != df['prev_match_id']) | (df['match_period'] != df['prev_match_period']), 'prev_timestamp'] = pd.NA"
   ]
  },
  {
   "cell_type": "markdown",
   "metadata": {},
   "source": [
    "For each primary type used in the classification process, calculate how long it takes to be followed up by every other primary type. "
   ]
  },
  {
   "cell_type": "code",
   "execution_count": 5,
   "metadata": {},
   "outputs": [],
   "source": [
    "df.loc[df['primary_type'] == 'shot', 'time_diff'] = df['next_timestamp'] - df['video_timestamp']\n",
    "df.loc[df['primary_type'] == 'pass', 'time_diff'] = df['next_timestamp'] - df['video_timestamp']\n",
    "df.loc[df['primary_type'] == 'duel', 'time_diff'] = df['next_timestamp'] - df['video_timestamp']\n",
    "df.loc[df['primary_type'] == 'interception', 'time_diff'] = df['next_timestamp'] - df['video_timestamp']\n",
    "df.loc[df['primary_type'] == 'touch', 'time_diff'] = df['next_timestamp'] - df['video_timestamp']"
   ]
  },
  {
   "cell_type": "code",
   "execution_count": 8,
   "metadata": {},
   "outputs": [
    {
     "name": "stdout",
     "output_type": "stream",
     "text": [
      "object\n"
     ]
    }
   ],
   "source": [
    "print(df['time_diff'].dtype)"
   ]
  },
  {
   "cell_type": "code",
   "execution_count": 10,
   "metadata": {},
   "outputs": [],
   "source": [
    "df['time_diff'] = df['time_diff'].fillna(np.nan).astype(float)\n",
    "df['time_diff'] = df['time_diff'].astype(float)"
   ]
  },
  {
   "cell_type": "code",
   "execution_count": 30,
   "metadata": {},
   "outputs": [],
   "source": [
    "time_diff_stats_shot = df[df['primary_type'] == 'shot'].groupby('next_type')['time_diff'].agg(['mean', 'std', 'count'])\n",
    "time_diff_stats_pass = df[df['primary_type'] == 'pass'].groupby('next_type')['time_diff'].agg(['mean', 'std', 'count'])\n",
    "time_diff_stats_duel = df[df['primary_type'] == 'duel'].groupby('next_type')['time_diff'].agg(['mean', 'std', 'count'])\n",
    "time_diff_stats_interception = df[df['primary_type'] == 'interception'].groupby('next_type')['time_diff'].agg(['mean', 'std', 'count'])\n",
    "time_diff_stats_touch = df[df['primary_type'] == 'touch'].groupby('next_type')['time_diff'].agg(['mean', 'std', 'count'])"
   ]
  },
  {
   "cell_type": "code",
   "execution_count": 35,
   "metadata": {},
   "outputs": [
    {
     "data": {
      "text/html": [
       "<div>\n",
       "<style scoped>\n",
       "    .dataframe tbody tr th:only-of-type {\n",
       "        vertical-align: middle;\n",
       "    }\n",
       "\n",
       "    .dataframe tbody tr th {\n",
       "        vertical-align: top;\n",
       "    }\n",
       "\n",
       "    .dataframe thead th {\n",
       "        text-align: right;\n",
       "    }\n",
       "</style>\n",
       "<table border=\"1\" class=\"dataframe\">\n",
       "  <thead>\n",
       "    <tr style=\"text-align: right;\">\n",
       "      <th></th>\n",
       "      <th>mean</th>\n",
       "      <th>std</th>\n",
       "      <th>count</th>\n",
       "    </tr>\n",
       "    <tr>\n",
       "      <th>next_type</th>\n",
       "      <th></th>\n",
       "      <th></th>\n",
       "      <th></th>\n",
       "    </tr>\n",
       "  </thead>\n",
       "  <tbody>\n",
       "    <tr>\n",
       "      <th>acceleration</th>\n",
       "      <td>1.642806</td>\n",
       "      <td>0.864254</td>\n",
       "      <td>91</td>\n",
       "    </tr>\n",
       "    <tr>\n",
       "      <th>clearance</th>\n",
       "      <td>1.332881</td>\n",
       "      <td>0.790815</td>\n",
       "      <td>375</td>\n",
       "    </tr>\n",
       "    <tr>\n",
       "      <th>duel</th>\n",
       "      <td>2.322474</td>\n",
       "      <td>1.954782</td>\n",
       "      <td>6401</td>\n",
       "    </tr>\n",
       "    <tr>\n",
       "      <th>fairplay</th>\n",
       "      <td>5.720663</td>\n",
       "      <td>3.206438</td>\n",
       "      <td>25</td>\n",
       "    </tr>\n",
       "    <tr>\n",
       "      <th>game_interruption</th>\n",
       "      <td>4.545607</td>\n",
       "      <td>8.329891</td>\n",
       "      <td>1255</td>\n",
       "    </tr>\n",
       "    <tr>\n",
       "      <th>goalkeeper_exit</th>\n",
       "      <td>0.446576</td>\n",
       "      <td>0.367741</td>\n",
       "      <td>10</td>\n",
       "    </tr>\n",
       "    <tr>\n",
       "      <th>infraction</th>\n",
       "      <td>2.073065</td>\n",
       "      <td>5.684358</td>\n",
       "      <td>120</td>\n",
       "    </tr>\n",
       "    <tr>\n",
       "      <th>interception</th>\n",
       "      <td>1.100753</td>\n",
       "      <td>2.124454</td>\n",
       "      <td>570</td>\n",
       "    </tr>\n",
       "    <tr>\n",
       "      <th>offside</th>\n",
       "      <td>2.177592</td>\n",
       "      <td>1.456610</td>\n",
       "      <td>22</td>\n",
       "    </tr>\n",
       "    <tr>\n",
       "      <th>own_goal</th>\n",
       "      <td>0.714679</td>\n",
       "      <td>0.220049</td>\n",
       "      <td>5</td>\n",
       "    </tr>\n",
       "    <tr>\n",
       "      <th>pass</th>\n",
       "      <td>3.602853</td>\n",
       "      <td>3.179877</td>\n",
       "      <td>27984</td>\n",
       "    </tr>\n",
       "    <tr>\n",
       "      <th>shot</th>\n",
       "      <td>1.561028</td>\n",
       "      <td>1.005587</td>\n",
       "      <td>573</td>\n",
       "    </tr>\n",
       "    <tr>\n",
       "      <th>shot_against</th>\n",
       "      <td>0.676280</td>\n",
       "      <td>0.476515</td>\n",
       "      <td>14</td>\n",
       "    </tr>\n",
       "    <tr>\n",
       "      <th>touch</th>\n",
       "      <td>1.754075</td>\n",
       "      <td>2.979046</td>\n",
       "      <td>1015</td>\n",
       "    </tr>\n",
       "  </tbody>\n",
       "</table>\n",
       "</div>"
      ],
      "text/plain": [
       "                       mean       std  count\n",
       "next_type                                   \n",
       "acceleration       1.642806  0.864254     91\n",
       "clearance          1.332881  0.790815    375\n",
       "duel               2.322474  1.954782   6401\n",
       "fairplay           5.720663  3.206438     25\n",
       "game_interruption  4.545607  8.329891   1255\n",
       "goalkeeper_exit    0.446576  0.367741     10\n",
       "infraction         2.073065  5.684358    120\n",
       "interception       1.100753  2.124454    570\n",
       "offside            2.177592  1.456610     22\n",
       "own_goal           0.714679  0.220049      5\n",
       "pass               3.602853  3.179877  27984\n",
       "shot               1.561028  1.005587    573\n",
       "shot_against       0.676280  0.476515     14\n",
       "touch              1.754075  2.979046   1015"
      ]
     },
     "execution_count": 35,
     "metadata": {},
     "output_type": "execute_result"
    }
   ],
   "source": [
    "time_diff_stats_touch"
   ]
  },
  {
   "cell_type": "code",
   "execution_count": 13,
   "metadata": {},
   "outputs": [],
   "source": [
    "df.loc[df['primary_type'] == 'shot', 'time_diff_prev'] = df['video_timestamp'] - df['prev_timestamp']\n",
    "df.loc[df['primary_type'] == 'pass', 'time_diff_prev'] = df['video_timestamp'] - df['prev_timestamp']\n",
    "df.loc[df['primary_type'] == 'duel', 'time_diff_prev'] = df['video_timestamp'] - df['prev_timestamp']\n",
    "df.loc[df['primary_type'] == 'interception', 'time_diff_prev'] = df['video_timestamp'] - df['prev_timestamp']\n",
    "df.loc[df['primary_type'] == 'touch', 'time_diff_prev'] = df['video_timestamp'] - df['prev_timestamp']"
   ]
  },
  {
   "cell_type": "code",
   "execution_count": 14,
   "metadata": {},
   "outputs": [],
   "source": [
    "df['time_diff_prev'] = df['time_diff_prev'].fillna(np.nan).astype(float)\n",
    "df['time_diff_prev'] = df['time_diff_prev'].astype(float)"
   ]
  },
  {
   "cell_type": "code",
   "execution_count": 27,
   "metadata": {},
   "outputs": [],
   "source": [
    "time_diff_stats_shot_prev = df[df['primary_type'] == 'shot'].groupby('prev_type')['time_diff_prev'].agg(['mean', 'std', 'count'])\n",
    "time_diff_stats_pass_prev = df[df['primary_type'] == 'pass'].groupby('prev_type')['time_diff_prev'].agg(['mean', 'std', 'count'])\n",
    "time_diff_stats_duel_prev = df[df['primary_type'] == 'duel'].groupby('prev_type')['time_diff_prev'].agg(['mean', 'std', 'count'])\n",
    "time_diff_stats_interception_prev = df[df['primary_type'] == 'interception'].groupby('prev_type')['time_diff_prev'].agg(['mean', 'std', 'count'])\n",
    "time_diff_stats_touch_prev = df[df['primary_type'] == 'touch'].groupby('prev_type')['time_diff_prev'].agg(['mean', 'std', 'count'])"
   ]
  },
  {
   "cell_type": "code",
   "execution_count": 41,
   "metadata": {},
   "outputs": [
    {
     "name": "stdout",
     "output_type": "stream",
     "text": [
      "                        mean        std  count\n",
      "prev_type                                     \n",
      "acceleration        3.447074   1.939557     16\n",
      "clearance           2.718100   1.846987    153\n",
      "corner              1.305407   0.524044    209\n",
      "duel                1.624382   3.684882   2752\n",
      "fairplay            5.505369  13.131748     44\n",
      "free_kick           2.112785   1.379621    733\n",
      "game_interruption  47.340819  41.798073     21\n",
      "goal_kick           2.198807   1.408124    665\n",
      "goalkeeper_exit     4.219033   5.639884     31\n",
      "interception        1.694868   1.454101   2167\n",
      "pass                1.716840   0.943179  29826\n",
      "shot                1.850139   1.190894     65\n",
      "shot_against        8.190162  13.850245    109\n",
      "throw_in            1.847749   1.223759    736\n",
      "touch               1.754075   2.979046   1015\n"
     ]
    }
   ],
   "source": [
    "print(time_diff_stats_touch_prev)"
   ]
  },
  {
   "cell_type": "code",
   "execution_count": null,
   "metadata": {},
   "outputs": [],
   "source": []
  },
  {
   "cell_type": "markdown",
   "metadata": {},
   "source": [
    "Accuracy of the event timestamps"
   ]
  },
  {
   "cell_type": "code",
   "execution_count": 18,
   "metadata": {},
   "outputs": [],
   "source": [
    "def extract_frames(video_path, df, event_id):\n",
    "    cap = cv2.VideoCapture(video_path)\n",
    "    \n",
    "    # Get frame rate of the video\n",
    "    fps = cap.get(cv2.CAP_PROP_FPS)\n",
    "    \n",
    "    # Filter the DataFrame for the given event_id\n",
    "    event_row = df[df['event_id'] == event_id].iloc[0]\n",
    "    #print(event_row)\n",
    "    \n",
    "    # Extract timestamps\n",
    "    important_frame_timestamp = event_row['video_timestamp']\n",
    "    next_timestamp = event_row['next_timestamp']\n",
    "    prev_timestamp = event_row['prev_timestamp']\n",
    "    \n",
    "    # Calculate start and end times based on timestamps\n",
    "    start_time = prev_timestamp if pd.notnull(prev_timestamp) else important_frame_timestamp\n",
    "    end_time = next_timestamp if pd.notnull(next_timestamp) else important_frame_timestamp\n",
    "    \n",
    "    # Calculate start and end frame numbers\n",
    "    start_frame = int(start_time * fps)\n",
    "    end_frame = int(end_time * fps)\n",
    "    \n",
    "    cap.set(cv2.CAP_PROP_POS_FRAMES, start_frame)\n",
    "    timestamp_start = 0\n",
    "    timestamp_end = 0\n",
    "    frame_count = start_frame\n",
    "    \n",
    "    while cap.isOpened() and frame_count <= end_frame:\n",
    "        ret, frame = cap.read()\n",
    "        if not ret:\n",
    "            break\n",
    "        \n",
    "        current_time = frame_count / fps\n",
    "        \n",
    "        # Define the color for the timestamps\n",
    "        current_timestamp_color = (0, 0, 255)  # Red for current frame timestamp\n",
    "        important_timestamp_color = (0, 255, 255)  # Yellow for important frame timestamp\n",
    "        \n",
    "        # Put the timestamps on the frame\n",
    "        current_timestamp_text = f'Current Frame: {current_time:.2f}s'\n",
    "        important_timestamp_text = f'Important Frame: {important_frame_timestamp:.2f}s'\n",
    "        \n",
    "        cv2.putText(frame, current_timestamp_text, (10, 30), cv2.FONT_HERSHEY_SIMPLEX, 1, current_timestamp_color, 2, cv2.LINE_AA)\n",
    "        cv2.putText(frame, important_timestamp_text, (10, 70), cv2.FONT_HERSHEY_SIMPLEX, 1, important_timestamp_color, 2, cv2.LINE_AA)\n",
    "        \n",
    "        # Display the frame\n",
    "        cv2.imshow('Frame', frame)\n",
    "        \n",
    "        # Wait for user input to show the next frame\n",
    "        key = cv2.waitKey(0) & 0xFF\n",
    "        # Break the loop if 'q' is pressed\n",
    "        if key == ord('q'):\n",
    "            break\n",
    "        elif key == ord('s'):\n",
    "            timestamp_start = float(current_time - 1/fps)\n",
    "        elif key == ord('e'):\n",
    "            timestamp_end = float(current_time - 1/fps)\n",
    "            break  # Exit loop after setting timestamp_end\n",
    "        \n",
    "        frame_count += 1\n",
    "        \n",
    "    if timestamp_end == 0:\n",
    "        timestamp_end = end_time\n",
    "    \n",
    "    cap.release()\n",
    "    cv2.destroyAllWindows()\n",
    "    return timestamp_start, timestamp_end, important_frame_timestamp"
   ]
  },
  {
   "cell_type": "code",
   "execution_count": 19,
   "metadata": {},
   "outputs": [],
   "source": [
    "def process_events(df, video_folder):\n",
    "    timestamps_df = pd.DataFrame(columns=['EventID', 'TimestampStart', 'TimestampEnd', 'TimestampEvent'])\n",
    "    \n",
    "    sample_df = df.sample(n=50, random_state=42)\n",
    "\n",
    "    for index, row in sample_df.iterrows():\n",
    "        event_id = row['event_id']\n",
    "        game_id = row['match_id']  # Assuming match_id is the column name for game ID\n",
    "        timestamp_next_event = row['next_timestamp']\n",
    "        \n",
    "        video_path = f\"{video_folder}/g{game_id}-hd.mp4\"\n",
    "        #print(f'Processing Event ID: {event_id}, Game ID: {game_id}, Video Path: {video_path}')\n",
    "        \n",
    "        # Extract timestamps for the current event_id\n",
    "        timestamp_start, timestamp_end, timestamp_event = extract_frames(video_path, df, event_id)\n",
    "        \n",
    "        # Append timestamps to DataFrame\n",
    "        timestamps_df = timestamps_df.append({\n",
    "            'EventID': event_id,\n",
    "            'TimestampStart': timestamp_start,\n",
    "            'TimestampEnd': timestamp_end,\n",
    "            'TimestampEvent': timestamp_event,\n",
    "            'TimestampNextEvent': timestamp_next_event\n",
    "        }, ignore_index=True)\n",
    "        \n",
    "        print(f'Timestamps for Event ID {event_id}: Start={timestamp_start}, End={timestamp_end}, Event={timestamp_event}')\n",
    "    \n",
    "    return timestamps_df"
   ]
  },
  {
   "cell_type": "code",
   "execution_count": null,
   "metadata": {},
   "outputs": [],
   "source": [
    "shot_following = df[df['primary_type'] == 'shot']\n",
    "pass_following = df[df['primary_type'] == 'pass']\n",
    "duel_following = df[df['primary_type'] == 'duel']\n",
    "interception_following = df[df['primary_type'] == 'interception']\n",
    "touch_following = df[df['primary_type'] == 'touch']\n",
    "\n",
    "video_folder = config['data_paths']['video_directory']\n",
    "\n",
    "results_shot = process_events(shot_following, video_folder)\n",
    "results_shot.to_csv('results_shot.csv', index=False)\n",
    "results_pass = process_events(pass_following, video_folder)\n",
    "results_pass.to_csv('results_pass.csv', index=False)\n",
    "results_duel = process_events(duel_following, video_folder)\n",
    "results_duel.to_csv('results_pass.csv', index=False)\n",
    "results_touch = process_events(touch_following, video_folder)\n",
    "results_touch.to_csv('results_touch.csv', index=False)\n",
    "results_interception = process_events(interception_following, video_folder)\n",
    "results_interception.to_csv('results_interception', index=False)\n"
   ]
  }
 ],
 "metadata": {
  "kernelspec": {
   "display_name": "base",
   "language": "python",
   "name": "python3"
  },
  "language_info": {
   "codemirror_mode": {
    "name": "ipython",
    "version": 3
   },
   "file_extension": ".py",
   "mimetype": "text/x-python",
   "name": "python",
   "nbconvert_exporter": "python",
   "pygments_lexer": "ipython3",
   "version": "3.8.5"
  }
 },
 "nbformat": 4,
 "nbformat_minor": 2
}
