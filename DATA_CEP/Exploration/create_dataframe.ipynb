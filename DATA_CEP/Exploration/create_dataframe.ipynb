{
 "cells": [
  {
   "cell_type": "code",
   "execution_count": 2,
   "metadata": {},
   "outputs": [],
   "source": [
    "import os\n",
    "import ffmpeg\n",
    "from datetime import timedelta\n",
    "import yaml\n",
    "import pandas as pd\n",
    "import numpy as np\n",
    "from itertools import combinations\n",
    "from itertools import product"
   ]
  },
  {
   "cell_type": "code",
   "execution_count": 3,
   "metadata": {},
   "outputs": [],
   "source": [
    "def load_config(config_path):\n",
    "    with open(config_path, 'r') as file:\n",
    "        config = yaml.safe_load(file)\n",
    "    return config\n",
    "\n",
    "config = load_config('config.yaml')"
   ]
  },
  {
   "cell_type": "code",
   "execution_count": 4,
   "metadata": {},
   "outputs": [],
   "source": [
    "dataframe = config['data_paths']['output_file_full_dataframe']\n",
    "df = pd.read_csv(dataframe)"
   ]
  },
  {
   "cell_type": "code",
   "execution_count": 6,
   "metadata": {},
   "outputs": [],
   "source": [
    "unique_secondary_types_separated = pd.Series([\n",
    "    word.strip()\n",
    "    for sublist in df['secondary_types'].dropna().str.split(',')\n",
    "    for word in sublist\n",
    "]).unique()\n",
    "for secondary_type in unique_secondary_types_separated:\n",
    "    df[secondary_type] = 0"
   ]
  },
  {
   "cell_type": "code",
   "execution_count": 7,
   "metadata": {},
   "outputs": [],
   "source": [
    "# Populate the columns based on 'secondary_types' values\n",
    "for index, row in df.iterrows():\n",
    "    if pd.notna(row['secondary_types']):  # Check for NaN\n",
    "        types = row['secondary_types'].split(',')\n",
    "        types = [word.replace(' ', '') for word in types]\n",
    "        for t in types:\n",
    "            if t in unique_secondary_types_separated:\n",
    "                df.at[index, t] = 1"
   ]
  },
  {
   "cell_type": "code",
   "execution_count": 9,
   "metadata": {},
   "outputs": [],
   "source": [
    "df.to_csv('D:\\\\GITHUB\\\\Data_CEP\\\\Exploration\\\\dataframe_expanded.csv', index=False)"
   ]
  },
  {
   "cell_type": "code",
   "execution_count": null,
   "metadata": {},
   "outputs": [],
   "source": []
  }
 ],
 "metadata": {
  "kernelspec": {
   "display_name": "base",
   "language": "python",
   "name": "python3"
  },
  "language_info": {
   "codemirror_mode": {
    "name": "ipython",
    "version": 3
   },
   "file_extension": ".py",
   "mimetype": "text/x-python",
   "name": "python",
   "nbconvert_exporter": "python",
   "pygments_lexer": "ipython3",
   "version": "3.11.5"
  }
 },
 "nbformat": 4,
 "nbformat_minor": 2
}
